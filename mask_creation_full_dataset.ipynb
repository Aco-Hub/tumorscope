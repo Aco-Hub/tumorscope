{
 "cells": [
  {
   "cell_type": "code",
   "execution_count": 10,
   "id": "65379ccc",
   "metadata": {},
   "outputs": [],
   "source": [
    "from cellpose import core, utils, io, models, metrics\n",
    "from tifffile import imread, imwrite\n",
    "from skimage.transform import resize\n",
    "from pathlib import Path"
   ]
  },
  {
   "cell_type": "code",
   "execution_count": 34,
   "id": "fab84a84",
   "metadata": {},
   "outputs": [],
   "source": [
    "import glob\n",
    "import numpy as np\n",
    "image_paths = \"../..//pvc/scratch/interaction_cells/datasets/*.tif\"\n",
    "images = []\n",
    "for image_path in glob.glob(image_paths):\n",
    "    image = imread(image_path)[:, 0, ...] \n",
    "    #image = np.expand_dims(image,1)\n",
    "    image =  resize(image, (image.shape[0] ,image.shape[1] // 2, image.shape[2] // 2), anti_aliasing=True)\n",
    "    image = list([im for im in image])\n",
    "    images.append(image)"
   ]
  },
  {
   "cell_type": "code",
   "execution_count": 39,
   "id": "233ad80d",
   "metadata": {},
   "outputs": [],
   "source": [
    "cellpose_model = models.CellposeModel(gpu=True, model_type='cyto3')"
   ]
  },
  {
   "cell_type": "code",
   "execution_count": 42,
   "id": "aebc1cb5",
   "metadata": {},
   "outputs": [
    {
     "name": "stderr",
     "output_type": "stream",
     "text": [
      "100%|██████████| 4/4 [11:02<00:00, 165.62s/it]\n"
     ]
    }
   ],
   "source": [
    "masks = []\n",
    "from tqdm import tqdm\n",
    "from pathlib import Path\n",
    "import glob\n",
    "output_dir = \"../..//pvc/scratch/SHARE/cancer_cell_masks\"\n",
    "Path(output_dir).mkdir(parents=True, exist_ok=True)\n",
    "for image_path, image in tqdm(list(zip(glob.glob(image_paths), images))[10:]):\n",
    "    mask, flows, styles = cellpose_model.eval(image,\n",
    "        diameter=45, do_3D=False, channels=[0, 0], normalize=True, flow_threshold=0.6, cellprob_threshold=-1.0,batch_size=81\n",
    "    )\n",
    "    masks.append(mask)\n",
    "        # Get original filename and create new path\n",
    "    original_name = Path(image_path).name\n",
    "    output_path = str(Path(output_dir) / original_name)\n",
    "    \n",
    "    # Save mask as tiff\n",
    "    imwrite(output_path, mask)"
   ]
  },
  {
   "cell_type": "code",
   "execution_count": 37,
   "id": "3eaa95f5",
   "metadata": {},
   "outputs": [],
   "source": [
    "# Save masks as tiff files with same structure as input\n",
    "from pathlib import Path\n",
    "\n",
    "output_dir = \"../..//pvc/scratch/SHARE/cancer_cell_masks\"\n",
    "Path(output_dir).mkdir(parents=True, exist_ok=True)\n",
    "\n",
    "for mask, image_path in zip(masks, glob.glob(image_paths)):\n",
    "    # Get original filename and create new path\n",
    "    original_name = Path(image_path).name\n",
    "    output_path = str(Path(output_dir) / original_name)\n",
    "    \n",
    "    # Save mask as tiff\n",
    "    imwrite(output_path, mask)\n",
    "\n"
   ]
  },
  {
   "cell_type": "code",
   "execution_count": null,
   "id": "f5d417b1-8fff-419d-a514-79923c3f1af3",
   "metadata": {},
   "outputs": [],
   "source": []
  }
 ],
 "metadata": {
  "kernelspec": {
   "display_name": "Python 3 (ipykernel)",
   "language": "python",
   "name": "python3"
  },
  "language_info": {
   "codemirror_mode": {
    "name": "ipython",
    "version": 3
   },
   "file_extension": ".py",
   "mimetype": "text/x-python",
   "name": "python",
   "nbconvert_exporter": "python",
   "pygments_lexer": "ipython3",
   "version": "3.11.6"
  }
 },
 "nbformat": 4,
 "nbformat_minor": 5
}
