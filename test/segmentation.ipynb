{
 "cells": [
  {
   "cell_type": "code",
   "execution_count": 1,
   "id": "65379ccc",
   "metadata": {},
   "outputs": [],
   "source": [
    "from cellpose import core, utils, io, models, metrics\n",
    "from tifffile import imread, imwrite\n",
    "from pathlib import Path\n",
    "from skimage.transform import resize\n",
    "import numpy as np\n",
    "import napari\n",
    "from tqdm.notebook import tqdm"
   ]
  },
  {
   "cell_type": "code",
   "execution_count": 2,
   "id": "fab84a84",
   "metadata": {},
   "outputs": [
    {
     "data": {
      "text/plain": [
       "(162, 1412, 1412)"
      ]
     },
     "execution_count": 2,
     "metadata": {},
     "output_type": "execute_result"
    }
   ],
   "source": [
    "image_path = Path(\"../DATA/series003_cCAR_tumor.tif\")\n",
    "\n",
    "image = imread(image_path)\n",
    "image_actin_channel = image[:, 1, ...]\n",
    "image = image[:, 0, ...]\n",
    "image.shape"
   ]
  },
  {
   "cell_type": "code",
   "execution_count": 3,
   "id": "2971aca5",
   "metadata": {},
   "outputs": [],
   "source": [
    "image_resized =  resize(image, (image.shape[0], image.shape[1] // 2, image.shape[2] // 2), anti_aliasing=True)\n",
    "image_actin_resized = resize(image_actin_channel, (image_actin_channel.shape[0], image_actin_channel.shape[1] // 2, image_actin_channel.shape[2] // 2), anti_aliasing=True)"
   ]
  },
  {
   "cell_type": "code",
   "execution_count": 4,
   "id": "3421ee28",
   "metadata": {},
   "outputs": [
    {
     "name": "stderr",
     "output_type": "stream",
     "text": [
      "c:\\Users\\Cyril\\anaconda3\\envs\\napari-cellpose\\lib\\site-packages\\napari_tools_menu\\__init__.py:194: FutureWarning: Public access to Window.qt_viewer is deprecated and will be removed in\n",
      "v0.5.0. It is considered an \"implementation detail\" of the napari\n",
      "application, not part of the napari viewer model. If your use case\n",
      "requires access to qt_viewer, please open an issue to discuss.\n",
      "  self.tools_menu = ToolsMenu(self, self.qt_viewer.viewer)\n"
     ]
    }
   ],
   "source": [
    "v = napari.Viewer()"
   ]
  },
  {
   "cell_type": "code",
   "execution_count": 5,
   "id": "4f31c0b5",
   "metadata": {},
   "outputs": [
    {
     "data": {
      "text/plain": [
       "<Image layer 'actin' at 0x1e94259abb0>"
      ]
     },
     "execution_count": 5,
     "metadata": {},
     "output_type": "execute_result"
    }
   ],
   "source": [
    "v.add_image(image_resized, name=\"image\", colormap=\"viridis\")\n",
    "v.add_image(image_actin_resized, name=\"actin\", colormap=\"magma\")"
   ]
  },
  {
   "cell_type": "code",
   "execution_count": 6,
   "id": "233ad80d",
   "metadata": {},
   "outputs": [
    {
     "name": "stderr",
     "output_type": "stream",
     "text": [
      "C:\\Users\\Cyril\\AppData\\Roaming\\Python\\Python38\\site-packages\\torch\\_utils.py:776: UserWarning: TypedStorage is deprecated. It will be removed in the future and UntypedStorage will be the only storage class. This should only matter to you if you are using storages directly.  To access UntypedStorage directly, use tensor.untyped_storage() instead of tensor.storage()\n",
      "  return self.fget.__get__(instance, owner)()\n"
     ]
    }
   ],
   "source": [
    "cellpose_model = models.CellposeModel(gpu=False, model_type='cyto3')"
   ]
  },
  {
   "cell_type": "code",
   "execution_count": null,
   "id": "aebc1cb5",
   "metadata": {},
   "outputs": [
    {
     "data": {
      "application/vnd.jupyter.widget-view+json": {
       "model_id": "1624d77602464a37836d1a673f806a4e",
       "version_major": 2,
       "version_minor": 0
      },
      "text/plain": [
       "  0%|          | 0/162 [00:00<?, ?it/s]"
      ]
     },
     "metadata": {},
     "output_type": "display_data"
    }
   ],
   "source": [
    "masks = np.zeros_like(image_resized, dtype=np.uint16)\n",
    "for i in tqdm(range(image_resized.shape[0])):\n",
    "    masks[i], flows, styles = cellpose_model.eval(\n",
    "        image_resized[i], diameter=45, do_3D=False, channels=[0, 0], normalize=True, flow_threshold=0.6, cellprob_threshold=-1.0\n",
    "    )\n",
    "    if i > 0:\n",
    "        break\n",
    "masks = masks[0]"
   ]
  },
  {
   "cell_type": "code",
   "execution_count": 8,
   "id": "28b1265a",
   "metadata": {},
   "outputs": [
    {
     "data": {
      "text/plain": [
       "<Labels layer 'masks' at 0x1e94408b1c0>"
      ]
     },
     "execution_count": 8,
     "metadata": {},
     "output_type": "execute_result"
    }
   ],
   "source": [
    "v.add_labels(masks, name=\"masks\")"
   ]
  },
  {
   "cell_type": "code",
   "execution_count": 9,
   "id": "a81aac1a",
   "metadata": {},
   "outputs": [
    {
     "data": {
      "text/plain": [
       "<Image layer 'image [1]' at 0x1e9447fe610>"
      ]
     },
     "execution_count": 9,
     "metadata": {},
     "output_type": "execute_result"
    }
   ],
   "source": [
    "v.add_image(image[0], name=\"image\", colormap=\"viridis\")"
   ]
  },
  {
   "cell_type": "code",
   "execution_count": 10,
   "id": "6e40174f",
   "metadata": {},
   "outputs": [],
   "source": [
    "masked_actin = image_actin_resized[0]\n",
    "masked_actin = np.where(masks == 0, masked_actin, 0)"
   ]
  },
  {
   "cell_type": "code",
   "execution_count": 11,
   "id": "850d0304",
   "metadata": {},
   "outputs": [
    {
     "data": {
      "text/plain": [
       "<Image layer 'masked_actin' at 0x1e944839850>"
      ]
     },
     "execution_count": 11,
     "metadata": {},
     "output_type": "execute_result"
    }
   ],
   "source": [
    "v.add_image(masked_actin, name=\"masked_actin\", colormap=\"magma\")"
   ]
  }
 ],
 "metadata": {
  "kernelspec": {
   "display_name": "napari-cellpose",
   "language": "python",
   "name": "python3"
  },
  "language_info": {
   "codemirror_mode": {
    "name": "ipython",
    "version": 3
   },
   "file_extension": ".py",
   "mimetype": "text/x-python",
   "name": "python",
   "nbconvert_exporter": "python",
   "pygments_lexer": "ipython3",
   "version": "3.8.13"
  }
 },
 "nbformat": 4,
 "nbformat_minor": 5
}
