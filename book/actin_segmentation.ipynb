{
 "cells": [
  {
   "cell_type": "markdown",
   "id": "38ce1d21",
   "metadata": {},
   "source": [
    "# Actin & calcium channel segmentation"
   ]
  },
  {
   "cell_type": "code",
   "execution_count": 1,
   "id": "65379ccc",
   "metadata": {},
   "outputs": [],
   "source": [
    "from tifffile import imread, imwrite\n",
    "from pathlib import Path\n",
    "from skimage.transform import resize\n",
    "import numpy as np\n",
    "import napari\n",
    "from tqdm.notebook import tqdm\n"
   ]
  },
  {
   "cell_type": "code",
   "execution_count": 2,
   "id": "fab84a84",
   "metadata": {},
   "outputs": [
    {
     "data": {
      "text/plain": [
       "(162, 1412, 1412)"
      ]
     },
     "execution_count": 2,
     "metadata": {},
     "output_type": "execute_result"
    }
   ],
   "source": [
    "image_path = Path(\"../DATA/series003_cCAR_tumor.tif\")\n",
    "\n",
    "image = imread(image_path)\n",
    "image_actin_channel = image[:, 1, ...]\n",
    "image_calcium_channel = image[:, 2, ...]\n",
    "image = image[:, 0, ...]\n",
    "image.shape"
   ]
  },
  {
   "cell_type": "code",
   "execution_count": 3,
   "id": "2971aca5",
   "metadata": {},
   "outputs": [],
   "source": [
    "image_resized =  resize(image, (image.shape[0], image.shape[1] // 2, image.shape[2] // 2), anti_aliasing=True)\n",
    "image_actin_resized = resize(image_actin_channel, (image_actin_channel.shape[0], image_actin_channel.shape[1] // 2, image_actin_channel.shape[2] // 2), anti_aliasing=True)\n",
    "image_calcium_resized = resize(image_calcium_channel, (image_calcium_channel.shape[0], image_calcium_channel.shape[1] // 2, image_calcium_channel.shape[2] // 2), anti_aliasing=True)"
   ]
  },
  {
   "cell_type": "code",
   "execution_count": 4,
   "id": "3421ee28",
   "metadata": {},
   "outputs": [],
   "source": [
    "v = napari.Viewer()"
   ]
  },
  {
   "cell_type": "code",
   "execution_count": 5,
   "id": "4f31c0b5",
   "metadata": {},
   "outputs": [
    {
     "data": {
      "text/plain": [
       "<Image layer 'calcium' at 0x1d76e1d4400>"
      ]
     },
     "execution_count": 5,
     "metadata": {},
     "output_type": "execute_result"
    }
   ],
   "source": [
    "v.add_image(image_resized, name=\"image\", colormap=\"viridis\")\n",
    "v.add_image(image_actin_resized, name=\"actin\", colormap=\"magma\")\n",
    "v.add_image(image_calcium_resized, name=\"calcium\", colormap=\"red\")"
   ]
  },
  {
   "cell_type": "code",
   "execution_count": 6,
   "id": "233ad80d",
   "metadata": {},
   "outputs": [
    {
     "data": {
      "application/vnd.jupyter.widget-view+json": {
       "model_id": "8283c398129e4067bdfe7aa99330afa6",
       "version_major": 2,
       "version_minor": 0
      },
      "text/plain": [
       "0it [00:00, ?it/s]"
      ]
     },
     "metadata": {},
     "output_type": "display_data"
    }
   ],
   "source": [
    "masks_path = Path(\"../DATA/tracked\")\n",
    "\n",
    "# Stack all tiff files in the directory into a single 3D numpy array\n",
    "masks = []\n",
    "for mask_path in tqdm(masks_path.glob(\"*.tif\")):\n",
    "    mask = imread(mask_path)\n",
    "    masks.append(mask)\n",
    "masks = np.array(masks)"
   ]
  },
  {
   "cell_type": "code",
   "execution_count": 7,
   "id": "73889aaf",
   "metadata": {},
   "outputs": [
    {
     "data": {
      "text/plain": [
       "(162, 706, 706)"
      ]
     },
     "execution_count": 7,
     "metadata": {},
     "output_type": "execute_result"
    }
   ],
   "source": [
    "masks.shape"
   ]
  },
  {
   "cell_type": "code",
   "execution_count": 8,
   "id": "28b1265a",
   "metadata": {},
   "outputs": [
    {
     "data": {
      "text/plain": [
       "<Labels layer 'masks' at 0x1d84ebd01f0>"
      ]
     },
     "execution_count": 8,
     "metadata": {},
     "output_type": "execute_result"
    }
   ],
   "source": [
    "v.add_labels(masks, name=\"masks\")"
   ]
  },
  {
   "cell_type": "code",
   "execution_count": null,
   "id": "d24e106d",
   "metadata": {},
   "outputs": [],
   "source": [
    "from pyclesperanto_prototype import difference_of_gaussian\n",
    "from skimage.segmentation import watershed\n",
    "from skimage.measure import regionprops"
   ]
  },
  {
   "cell_type": "code",
   "execution_count": 10,
   "id": "64ab0f86",
   "metadata": {},
   "outputs": [],
   "source": [
    "actin_dog = difference_of_gaussian(image_actin_resized, \n",
    "                                   sigma1_x=5, sigma2_x=10,\n",
    "                                   sigma1_y=5, sigma2_y=10,\n",
    "                                   sigma1_z=0, sigma2_z=0\n",
    "                                   ) * 1000\n",
    "actin_dog = np.array(actin_dog, dtype=np.float32)"
   ]
  },
  {
   "cell_type": "code",
   "execution_count": 13,
   "id": "2cfe1e28",
   "metadata": {},
   "outputs": [],
   "source": [
    "actin_dog_filtered = np.where(actin_dog < 0.1, 0, actin_dog)\n",
    "# actin_dog_filtered = np.where(actin_dog_filtered > 0.3, 0, actin_dog_filtered)\n"
   ]
  },
  {
   "cell_type": "code",
   "execution_count": 20,
   "id": "3f26e87e",
   "metadata": {},
   "outputs": [],
   "source": [
    "actin_dog_filtered = np.array(actin_dog_filtered)\n"
   ]
  },
  {
   "cell_type": "code",
   "execution_count": null,
   "id": "addd55c0",
   "metadata": {},
   "outputs": [],
   "source": [
    "v.add_image(actin_dog_filtered, name=\"actin_dog_filtered\", colormap=\"turbo\", blending=\"additive\")"
   ]
  },
  {
   "cell_type": "code",
   "execution_count": 56,
   "id": "3a48c56f",
   "metadata": {},
   "outputs": [
    {
     "data": {
      "application/vnd.jupyter.widget-view+json": {
       "model_id": "dc30d1bef73643b3be48de5af1949917",
       "version_major": 2,
       "version_minor": 0
      },
      "text/plain": [
       "  0%|          | 0/162 [00:00<?, ?it/s]"
      ]
     },
     "metadata": {},
     "output_type": "display_data"
    }
   ],
   "source": [
    "# actin_dog_filtered_labels = voronoi_otsu_labeling(actin_dog_filtered, spot_sigma=5, outline_sigma=2)\n",
    "actin_dog_filtered_labels = np.zeros_like(actin_dog_filtered)\n",
    "for t, frame in tqdm(enumerate(actin_dog_filtered), total=actin_dog_filtered.shape[0]):\n",
    "    frame_flipped = np.max(frame) - frame\n",
    "    frame_flipped = np.where(frame == 0, np.inf, frame_flipped)\n",
    "    wshed = watershed(frame_flipped)\n",
    "    actin_dog_filtered_labels[t] = np.where(frame != 0, wshed, 0)"
   ]
  },
  {
   "cell_type": "code",
   "execution_count": 57,
   "id": "2b9546b2",
   "metadata": {},
   "outputs": [
    {
     "data": {
      "text/plain": [
       "<Labels layer 'actin_filtered_labels' at 0x1d89bdc5220>"
      ]
     },
     "execution_count": 57,
     "metadata": {},
     "output_type": "execute_result"
    }
   ],
   "source": [
    "v.add_labels(actin_dog_filtered_labels.astype(np.uint16), name=\"actin_filtered_labels\")"
   ]
  },
  {
   "cell_type": "code",
   "execution_count": 58,
   "id": "83b58d3a",
   "metadata": {},
   "outputs": [],
   "source": [
    "calcium_mask = np.where(image_calcium_resized > 0.003, 1, 0)\n",
    "calcium_mask = np.array(calcium_mask, dtype=np.uint8)"
   ]
  },
  {
   "cell_type": "code",
   "execution_count": 59,
   "id": "2ec81652",
   "metadata": {},
   "outputs": [
    {
     "data": {
      "text/plain": [
       "<Labels layer 'calcium_mask [1]' at 0x1d84253dac0>"
      ]
     },
     "execution_count": 59,
     "metadata": {},
     "output_type": "execute_result"
    }
   ],
   "source": [
    "v.add_labels(calcium_mask)"
   ]
  },
  {
   "cell_type": "code",
   "execution_count": null,
   "id": "dc746614",
   "metadata": {},
   "outputs": [],
   "source": [
    "def filter_labels_by_area(masks, min_area=None, max_area=None):\n",
    "    \"\"\"\n",
    "    Filter labels by area using regionprops.\n",
    "    \"\"\"\n",
    "    filtered_labels = np.zeros_like(masks, dtype=np.uint16)\n",
    "    for t in tqdm(range(masks.shape[0])):\n",
    "        labels = masks[t]\n",
    "        props = regionprops(labels)\n",
    "        for prop in props:\n",
    "            area = prop.area\n",
    "            if (min_area is None or area >= min_area) and (max_area is None or area <= max_area):\n",
    "                filtered_labels[t][labels == prop.label] = prop.label\n",
    "    return filtered_labels"
   ]
  },
  {
   "cell_type": "code",
   "execution_count": 64,
   "id": "f06730e2",
   "metadata": {},
   "outputs": [],
   "source": [
    "actin_dog_filtered_labels = filter_labels_by_area(actin_dog_filtered_labels.astype(np.uint16), min_area=100, max_area=None)"
   ]
  },
  {
   "cell_type": "code",
   "execution_count": 65,
   "id": "a95e6992",
   "metadata": {},
   "outputs": [
    {
     "data": {
      "text/plain": [
       "<Labels layer 'actin_dog_filtered_labels' at 0x1d840c8b730>"
      ]
     },
     "execution_count": 65,
     "metadata": {},
     "output_type": "execute_result"
    }
   ],
   "source": [
    "v.add_labels(actin_dog_filtered_labels)"
   ]
  },
  {
   "cell_type": "code",
   "execution_count": null,
   "id": "c7eee1da",
   "metadata": {},
   "outputs": [],
   "source": []
  }
 ],
 "metadata": {
  "kernelspec": {
   "display_name": "cellseg3d",
   "language": "python",
   "name": "python3"
  },
  "language_info": {
   "codemirror_mode": {
    "name": "ipython",
    "version": 3
   },
   "file_extension": ".py",
   "mimetype": "text/x-python",
   "name": "python",
   "nbconvert_exporter": "python",
   "pygments_lexer": "ipython3",
   "version": "3.8.16"
  }
 },
 "nbformat": 4,
 "nbformat_minor": 5
}
