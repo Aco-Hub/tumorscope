{
 "cells": [
  {
   "cell_type": "code",
   "execution_count": 34,
   "id": "b0137849-f82d-42d2-8068-00d84dcf48a7",
   "metadata": {},
   "outputs": [],
   "source": [
    "from tifffile import imread, imwrite\n",
    "from pathlib import Path\n",
    "from skimage.transform import resize\n",
    "import numpy as np\n",
    "from tqdm import tqdm\n",
    "# import pyclesperanto_prototype as cle"
   ]
  },
  {
   "cell_type": "code",
   "execution_count": 10,
   "id": "a5917cb8-6204-4b38-995d-32754cf72dc3",
   "metadata": {},
   "outputs": [
    {
     "name": "stdout",
     "output_type": "stream",
     "text": [
      "Loading image...\n"
     ]
    },
    {
     "data": {
      "text/plain": [
       "(162, 1412, 1412)"
      ]
     },
     "execution_count": 10,
     "metadata": {},
     "output_type": "execute_result"
    }
   ],
   "source": [
    "# root_path = Path(\"../../pvc/scratch/interaction_cells/datasets/\")\n",
    "root_path = Path(r\"C:\\Users\\Cyril\\Desktop\\Code\\tumorscope\\DATA\")\n",
    "print(\"Loading image...\")\n",
    "image = imread(root_path / \"series003_cCAR_tumor.tif\")\n",
    "\n",
    "image_actin_channel = image[:, 1, ...]\n",
    "image_calcium_channel = image[:, 2, ...]\n",
    "image = image[:, 0, ...]\n",
    "image.shape"
   ]
  },
  {
   "cell_type": "code",
   "execution_count": 11,
   "id": "3369f258-6dcf-4f75-8f97-d0fb57bfe9d7",
   "metadata": {},
   "outputs": [],
   "source": [
    "image_resized =  resize(image, (image.shape[0], image.shape[1] // 2, image.shape[2] // 2), anti_aliasing=True)\n",
    "image_actin_resized = resize(image_actin_channel, (image_actin_channel.shape[0], image_actin_channel.shape[1] // 2, image_actin_channel.shape[2] // 2), anti_aliasing=True)\n",
    "image_calcium_resized = resize(image_calcium_channel, (image_calcium_channel.shape[0], image_calcium_channel.shape[1] // 2, image_calcium_channel.shape[2] // 2), anti_aliasing=True)"
   ]
  },
  {
   "cell_type": "code",
   "execution_count": 12,
   "id": "23aa0926",
   "metadata": {},
   "outputs": [],
   "source": [
    "import napari\n",
    "v = napari.Viewer()"
   ]
  },
  {
   "cell_type": "code",
   "execution_count": 18,
   "id": "d348bd3e",
   "metadata": {},
   "outputs": [
    {
     "data": {
      "text/plain": [
       "<Image layer 'calcium' at 0x1c9aa1485b0>"
      ]
     },
     "execution_count": 18,
     "metadata": {},
     "output_type": "execute_result"
    }
   ],
   "source": [
    "v.add_image(image_resized, name=\"image\", colormap=\"viridis\")\n",
    "v.add_image(image_actin_resized, name=\"actin\", colormap=\"magma\")\n",
    "v.add_image(image_calcium_resized, name=\"calcium\", colormap=\"red\")"
   ]
  },
  {
   "cell_type": "code",
   "execution_count": 6,
   "id": "f67d8332-2e56-41ed-b90c-416d82b27505",
   "metadata": {},
   "outputs": [],
   "source": [
    "from pyclesperanto_prototype import difference_of_gaussian\n",
    "from skimage.segmentation import watershed\n",
    "from skimage.measure import regionprops"
   ]
  },
  {
   "cell_type": "code",
   "execution_count": 7,
   "id": "477ea5de-e0b6-48e1-a643-41ff64b14e34",
   "metadata": {},
   "outputs": [
    {
     "name": "stderr",
     "output_type": "stream",
     "text": [
      "8 warnings generated.\n",
      "8 warnings generated.\n",
      "8 warnings generated.\n",
      "8 warnings generated.\n"
     ]
    }
   ],
   "source": [
    "actin_dog = difference_of_gaussian(image_actin_resized, \n",
    "                                   sigma1_x=5, sigma2_x=10,\n",
    "                                   sigma1_y=5, sigma2_y=10,\n",
    "                                   sigma1_z=0, sigma2_z=0\n",
    "                                   ) * 1000\n",
    "actin_dog = np.array(actin_dog, dtype=np.float32)"
   ]
  },
  {
   "cell_type": "code",
   "execution_count": 8,
   "id": "2c779d72-42bd-4b48-a8e0-6bf1a63d275e",
   "metadata": {},
   "outputs": [],
   "source": [
    "actin_dog_filtered = np.where(actin_dog < 0.1, 0, actin_dog)\n",
    "# actin_dog_filtered = np.where(actin_dog_filtered > 0.3, 0, actin_dog_filtered)\n"
   ]
  },
  {
   "cell_type": "code",
   "execution_count": 9,
   "id": "327d3dbd-7d06-44a2-a1b6-40c6d6d83d1b",
   "metadata": {},
   "outputs": [],
   "source": [
    "actin_dog_filtered = np.array(actin_dog_filtered)"
   ]
  },
  {
   "cell_type": "code",
   "execution_count": 10,
   "id": "0a728886-56ac-43fd-b2df-8fdfd5d0c461",
   "metadata": {},
   "outputs": [
    {
     "data": {
      "application/vnd.jupyter.widget-view+json": {
       "model_id": "212284c68c814d2dbbb6a0b51d7df6d1",
       "version_major": 2,
       "version_minor": 0
      },
      "text/plain": [
       "  0%|          | 0/162 [00:00<?, ?it/s]"
      ]
     },
     "metadata": {},
     "output_type": "display_data"
    }
   ],
   "source": [
    "# actin_dog_filtered_labels = voronoi_otsu_labeling(actin_dog_filtered, spot_sigma=5, outline_sigma=2)\n",
    "actin_dog_filtered_labels = np.zeros_like(actin_dog_filtered)\n",
    "for t, frame in tqdm(enumerate(actin_dog_filtered), total=actin_dog_filtered.shape[0]):\n",
    "    frame_flipped = np.max(frame) - frame\n",
    "    frame_flipped = np.where(frame == 0, np.inf, frame_flipped)\n",
    "    wshed = watershed(frame_flipped)\n",
    "    actin_dog_filtered_labels[t] = np.where(frame != 0, wshed, 0)"
   ]
  },
  {
   "cell_type": "code",
   "execution_count": 11,
   "id": "a27648e4-929c-4a70-85b8-31d8853e415f",
   "metadata": {},
   "outputs": [],
   "source": [
    "# calcium_mask = np.where(image_calcium_resized > 0.003, 1, 0)\n",
    "# calcium_mask = np.array(calcium_mask, dtype=np.uint8)"
   ]
  },
  {
   "cell_type": "code",
   "execution_count": 12,
   "id": "0fc73e43-736e-4edb-94d1-9a3208b39a87",
   "metadata": {},
   "outputs": [],
   "source": [
    "def filter_labels_by_area(masks, min_area=None, max_area=None):\n",
    "    \"\"\"\n",
    "    Filter labels by area using regionprops.\n",
    "    \"\"\"\n",
    "    filtered_labels = np.zeros_like(masks, dtype=np.uint16)\n",
    "    for t in tqdm(range(masks.shape[0])):\n",
    "        labels = masks[t]\n",
    "        props = regionprops(labels)\n",
    "        for prop in props:\n",
    "            area = prop.area\n",
    "            if (min_area is None or area >= min_area) and (max_area is None or area <= max_area):\n",
    "                filtered_labels[t][labels == prop.label] = prop.label\n",
    "    return filtered_labels"
   ]
  },
  {
   "cell_type": "code",
   "execution_count": 13,
   "id": "101fc8c7-625b-4895-af29-0d046d2b8e32",
   "metadata": {},
   "outputs": [
    {
     "data": {
      "application/vnd.jupyter.widget-view+json": {
       "model_id": "cecd8dbfc41749d5a9bcb2f01be24f06",
       "version_major": 2,
       "version_minor": 0
      },
      "text/plain": [
       "  0%|          | 0/162 [00:00<?, ?it/s]"
      ]
     },
     "metadata": {},
     "output_type": "display_data"
    }
   ],
   "source": [
    "actin_dog_filtered_labels = filter_labels_by_area(actin_dog_filtered_labels.astype(np.uint16), min_area=100, max_area=None)"
   ]
  },
  {
   "cell_type": "code",
   "execution_count": 17,
   "id": "f17d5e30-b428-4a5a-8eff-76810ebefaa9",
   "metadata": {},
   "outputs": [
    {
     "name": "stderr",
     "output_type": "stream",
     "text": [
      "INFO:trackastra.model.model:Loading model state from /home/achard/.trackastra/.models/general_2d/model.pt\n"
     ]
    },
    {
     "name": "stdout",
     "output_type": "stream",
     "text": [
      "/home/achard/.trackastra/.models/general_2d already downloaded, skipping.\n"
     ]
    },
    {
     "name": "stderr",
     "output_type": "stream",
     "text": [
      "INFO:trackastra.model.model_api:Using device cuda\n"
     ]
    }
   ],
   "source": [
    "# Load a pretrained model\n",
    "from trackastra.model import Trackastra\n",
    "model = Trackastra.from_pretrained(\"general_2d\", device=\"cuda\")"
   ]
  },
  {
   "cell_type": "code",
   "execution_count": 30,
   "id": "d150bb08-8e38-4b12-8617-cae10cd8ba57",
   "metadata": {},
   "outputs": [
    {
     "name": "stderr",
     "output_type": "stream",
     "text": [
      "INFO:trackastra.model.model_api:Predicting weights for candidate graph\n",
      "INFO:trackastra.data.wrfeat:Extracting features from 162 detections\n",
      "INFO:trackastra.data.wrfeat:Using single process for feature extraction\n",
      "Extracting features: 100%|██████████| 162/162 [00:19<00:00,  8.46it/s]\n",
      "INFO:trackastra.model.model_api:Building windows\n",
      "Building windows: 100%|██████████| 159/159 [00:00<00:00, 11919.04it/s]\n",
      "INFO:trackastra.model.model_api:Predicting windows\n",
      "Computing associations: 100%|██████████| 159/159 [00:10<00:00, 15.68it/s]\n",
      "INFO:trackastra.model.model_api:Running greedy tracker\n",
      "INFO:trackastra.tracking.tracking:Build candidate graph with delta_t=1\n",
      "INFO:trackastra.tracking.tracking:Added 55415 vertices, 75651 edges                          \n",
      "INFO:trackastra.tracking.tracking:Running greedy tracker\n",
      "Greedily matched edges:  62%|██████▏   | 46742/75651 [00:00<00:00, 147159.39it/s]\n"
     ]
    }
   ],
   "source": [
    "# Track the cells\n",
    "track_graph = model.track(image_resized, actin_dog_filtered_labels.astype(np.uint16), mode=\"greedy_nodiv\", use_distance=True, max_distance=20, allow_divisions=False)  # or mode=\"ilp\", or \"greedy_nodiv\""
   ]
  },
  {
   "cell_type": "code",
   "execution_count": 31,
   "id": "6450700a-3426-4c23-a956-d312afce0368",
   "metadata": {},
   "outputs": [],
   "source": [
    "from trackastra.tracking import graph_to_ctc, graph_to_napari_tracks"
   ]
  },
  {
   "cell_type": "code",
   "execution_count": 32,
   "id": "1c961d7d-92e8-4ffd-9054-5feec208b72f",
   "metadata": {},
   "outputs": [
    {
     "name": "stderr",
     "output_type": "stream",
     "text": [
      "Converting graph to CTC results: 100%|██████████| 5778/5778 [00:00<00:00, 6254.94it/s]\n",
      "Saving masks: 100%|██████████| 162/162 [00:00<00:00, 195.52it/s]\n"
     ]
    }
   ],
   "source": [
    "# Write to cell tracking challenge format\n",
    "ctc_tracks, masks_tracked = graph_to_ctc(\n",
    "      track_graph,\n",
    "      actin_dog_filtered_labels,\n",
    "      outdir=\"../../pvc/scratch/SHARE/cancer_cell_masks/series003_cCAR_tumor_tracked/actin_tracked\",\n",
    ")"
   ]
  },
  {
   "cell_type": "code",
   "execution_count": 1,
   "id": "bd1d8f4e",
   "metadata": {},
   "outputs": [],
   "source": [
    "from napari_ctc_io.reader import read_ctc, _ctc_to_napari_tracks\n",
    "from pathlib import Path\n",
    "import pandas as pd\n",
    "import numpy as np\n",
    "import napari"
   ]
  },
  {
   "cell_type": "code",
   "execution_count": 13,
   "id": "1420bc8f-85a2-419f-910b-c30ec6fefd5e",
   "metadata": {},
   "outputs": [
    {
     "name": "stderr",
     "output_type": "stream",
     "text": [
      "INFO:napari_ctc_io.reader:Loaded tracks from C:\\Users\\Cyril\\Desktop\\Code\\tumorscope\\DATA\\actin_tracked\\man_track.txt\n",
      "INFO:napari_ctc_io.reader:Running CTC format checks\n",
      "INFO:napari_ctc_io.reader:Checks completed\n"
     ]
    }
   ],
   "source": [
    "masks, tracks, tracks_graph = read_ctc(\n",
    "    Path(r\"C:\\Users\\Cyril\\Desktop\\Code\\tumorscope\\DATA\\actin_tracked\")\n",
    ")"
   ]
  },
  {
   "cell_type": "code",
   "execution_count": 14,
   "id": "ca5268c5",
   "metadata": {},
   "outputs": [],
   "source": [
    "tracks_df = pd.DataFrame(tracks, columns=[\"label\", \"frame\", \"x\", \"y\"])\n",
    "tracks_df.label = tracks_df.label.astype(np.uint16)\n",
    "tracks_df.frame = tracks_df.frame.astype(np.uint16)"
   ]
  },
  {
   "cell_type": "code",
   "execution_count": 15,
   "id": "c646bfb1",
   "metadata": {},
   "outputs": [],
   "source": [
    "def filter_masks_by_time(masks, tracks_df, min_length=5):\n",
    "    \"\"\"\n",
    "    Filter masks by their length.\n",
    "    \"\"\"\n",
    "    masks_ids = tracks_df.groupby(\"label\").size()\n",
    "    valid_masks = masks_ids[masks_ids >= min_length].index.values\n",
    "    # In the masks array (T, H, W), remove labels with values that are not in valid_masks\n",
    "    masks_filtered = np.zeros_like(masks, dtype=np.uint16)\n",
    "    for t in range(masks.shape[0]):\n",
    "        masks_filtered[t] = np.where(np.isin(masks[t], valid_masks), masks[t], 0)\n",
    "    tracks_df_filtered = tracks_df[tracks_df[\"label\"].isin(valid_masks)]\n",
    "    return masks_filtered, tracks_df_filtered"
   ]
  },
  {
   "cell_type": "code",
   "execution_count": 16,
   "id": "afe6d681",
   "metadata": {},
   "outputs": [],
   "source": [
    "masks_filtered, filtered_tracks_df = filter_masks_by_time(masks, tracks_df, min_length=10)"
   ]
  },
  {
   "cell_type": "code",
   "execution_count": 17,
   "id": "a915bfcb",
   "metadata": {},
   "outputs": [
    {
     "data": {
      "text/plain": [
       "<Tracks layer 'filtered_tracks' at 0x1c9e7a79b10>"
      ]
     },
     "execution_count": 17,
     "metadata": {},
     "output_type": "execute_result"
    }
   ],
   "source": [
    "v.add_labels(masks_filtered, name=\"masks_filtered\")\n",
    "\n",
    "filtered_tracks = filtered_tracks_df.to_numpy().astype(np.float32)\n",
    "v.add_tracks(filtered_tracks, name=\"filtered_tracks\")\n"
   ]
  },
  {
   "cell_type": "code",
   "execution_count": 27,
   "id": "0f3fb5d9",
   "metadata": {},
   "outputs": [],
   "source": [
    "# import threshold\n",
    "from skimage.measure import label, regionprops"
   ]
  },
  {
   "cell_type": "code",
   "execution_count": 31,
   "id": "18a0db5c",
   "metadata": {},
   "outputs": [],
   "source": [
    "calcium_mask = np.where(image_calcium_resized > 0.003, 1, 0)\n",
    "calcium_mask = label(calcium_mask, connectivity=1)"
   ]
  },
  {
   "cell_type": "code",
   "execution_count": 35,
   "id": "87d232ad",
   "metadata": {},
   "outputs": [],
   "source": [
    "def filter_labels_by_area(masks, min_area=None, max_area=None):\n",
    "    \"\"\"\n",
    "    Filter labels by area using regionprops.\n",
    "    \"\"\"\n",
    "    filtered_labels = np.zeros_like(masks, dtype=np.uint16)\n",
    "    for t in tqdm(range(masks.shape[0])):\n",
    "        labels = masks[t]\n",
    "        props = regionprops(labels)\n",
    "        for prop in props:\n",
    "            area = prop.area\n",
    "            if (min_area is None or area >= min_area) and (max_area is None or area <= max_area):\n",
    "                filtered_labels[t][labels == prop.label] = prop.label\n",
    "    return filtered_labels"
   ]
  },
  {
   "cell_type": "code",
   "execution_count": 36,
   "id": "cd0d130b",
   "metadata": {},
   "outputs": [
    {
     "name": "stderr",
     "output_type": "stream",
     "text": [
      "100%|██████████| 162/162 [00:01<00:00, 154.35it/s]\n"
     ]
    }
   ],
   "source": [
    "calcium_mask = filter_labels_by_area(calcium_mask.astype(np.uint16), min_area=100, max_area=None)"
   ]
  },
  {
   "cell_type": "code",
   "execution_count": 38,
   "id": "36f88ec3",
   "metadata": {},
   "outputs": [
    {
     "data": {
      "text/plain": [
       "<Labels layer 'calcium_mask [1]' at 0x1c9ac133a90>"
      ]
     },
     "execution_count": 38,
     "metadata": {},
     "output_type": "execute_result"
    }
   ],
   "source": [
    "v.add_labels(calcium_mask, name=\"calcium_mask\")"
   ]
  },
  {
   "cell_type": "code",
   "execution_count": null,
   "id": "655bb1af",
   "metadata": {},
   "outputs": [],
   "source": [
    "# every 10 frames, calcium channel has npon-zero values (due to phototoxicity)\n",
    "# write a function that, for every mask in masks_filtered, check if the calcium channel is not empty, and record which labels have had positive calcium channel\n",
    "from dataclasses import dataclass\n",
    "\n",
    "@dataclass\n",
    "class TCell:\n",
    "    calcium_labels: dict\n",
    "    labels: np.ndarray\n",
    "    N_frames_calcium_positive: int = 0\n",
    "\n",
    "def get_calcium_positive_labels(actin_masks, calcium_masks):\n",
    "    \"\"\"\n",
    "    Get the labels of the masks that have positive calcium channel.\n",
    "    \"\"\"\n",
    "    frames = {}\n",
    "    merged_tracking_masks = np.zeros_like(actin_masks)\n",
    "    for t in tqdm(range(actin_masks.shape[0])):\n",
    "        frames[t] = {}\n",
    "        if not calcium_masks[t].any():\n",
    "            continue\n",
    "        actin_labels = np.unique(actin_masks[t])\n",
    "        calcium_labels = np.unique(calcium_masks[t])\n",
    "        \n",
    "        actin_labels = actin_labels[actin_labels != 0]\n",
    "        calcium_labels = calcium_labels[calcium_labels != 0]\n",
    "        \n",
    "        for calcium_label in calcium_labels:\n",
    "            if calcium_label not in frames[t]:\n",
    "                frames[t][calcium_label] = TCell(labels=np.array([]), N_frames_calcium_positive=0, calcium_labels={})\n",
    "            frames[t][calcium_label].N_frames_calcium_positive += 1\n",
    "            frames[t][calcium_label].calcium_labels[t] = calcium_labels\n",
    "\n",
    "            for actin_label in actin_labels:\n",
    "                if actin_label not in frames[t][calcium_label].labels:\n",
    "                    calcium_overlap = np.where(calcium_masks[t] == calcium_label, actin_masks[t], 0)\n",
    "                    calcium_overlap = np.unique(calcium_overlap[calcium_overlap != 0])\n",
    "                    if len(calcium_overlap) == 0:\n",
    "                        continue\n",
    "                    frames[t][calcium_label].labels = np.concatenate((frames[t][calcium_label].labels, calcium_overlap))\n",
    "                    merged_tracking_masks[t][actin_masks[t] == actin_label] = calcium_overlap[0]\n",
    "                    \n",
    "    return frames, merged_tracking_masks"
   ]
  },
  {
   "cell_type": "code",
   "execution_count": 54,
   "id": "9c707490",
   "metadata": {},
   "outputs": [
    {
     "name": "stderr",
     "output_type": "stream",
     "text": [
      "  0%|          | 0/162 [00:00<?, ?it/s]"
     ]
    },
    {
     "name": "stderr",
     "output_type": "stream",
     "text": [
      "100%|██████████| 162/162 [04:27<00:00,  1.65s/it]\n"
     ]
    }
   ],
   "source": [
    "calcium_dict, merged_masks = get_calcium_positive_labels(masks_filtered, calcium_mask)"
   ]
  }
 ],
 "metadata": {
  "kernelspec": {
   "display_name": "tastra",
   "language": "python",
   "name": "python3"
  },
  "language_info": {
   "codemirror_mode": {
    "name": "ipython",
    "version": 3
   },
   "file_extension": ".py",
   "mimetype": "text/x-python",
   "name": "python",
   "nbconvert_exporter": "python",
   "pygments_lexer": "ipython3",
   "version": "3.10.16"
  }
 },
 "nbformat": 4,
 "nbformat_minor": 5
}
