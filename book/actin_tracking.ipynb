{
 "cells": [
  {
   "cell_type": "code",
   "execution_count": 1,
   "id": "b0137849-f82d-42d2-8068-00d84dcf48a7",
   "metadata": {},
   "outputs": [],
   "source": [
    "from tifffile import imread, imwrite\n",
    "from pathlib import Path\n",
    "from skimage.transform import resize\n",
    "import numpy as np\n",
    "from tqdm import tqdm\n",
    "# import pyclesperanto_prototype as cle"
   ]
  },
  {
   "cell_type": "code",
   "execution_count": 2,
   "id": "a5917cb8-6204-4b38-995d-32754cf72dc3",
   "metadata": {},
   "outputs": [
    {
     "name": "stdout",
     "output_type": "stream",
     "text": [
      "Loading image...\n"
     ]
    },
    {
     "data": {
      "text/plain": [
       "(162, 1412, 1412)"
      ]
     },
     "execution_count": 2,
     "metadata": {},
     "output_type": "execute_result"
    }
   ],
   "source": [
    "# root_path = Path(\"../../pvc/scratch/interaction_cells/datasets/\")\n",
    "root_path = Path(r\"C:\\Users\\Cyril\\Desktop\\Code\\tumorscope\\DATA\")\n",
    "print(\"Loading image...\")\n",
    "image = imread(root_path / \"series003_cCAR_tumor.tif\")\n",
    "\n",
    "image_actin_channel = image[:, 1, ...]\n",
    "image_calcium_channel = image[:, 2, ...]\n",
    "image = image[:, 0, ...]\n",
    "image.shape"
   ]
  },
  {
   "cell_type": "code",
   "execution_count": 3,
   "id": "3369f258-6dcf-4f75-8f97-d0fb57bfe9d7",
   "metadata": {},
   "outputs": [],
   "source": [
    "image_resized =  resize(image, (image.shape[0], image.shape[1] // 2, image.shape[2] // 2), anti_aliasing=True)\n",
    "image_actin_resized = resize(image_actin_channel, (image_actin_channel.shape[0], image_actin_channel.shape[1] // 2, image_actin_channel.shape[2] // 2), anti_aliasing=True)\n",
    "image_calcium_resized = resize(image_calcium_channel, (image_calcium_channel.shape[0], image_calcium_channel.shape[1] // 2, image_calcium_channel.shape[2] // 2), anti_aliasing=True)"
   ]
  },
  {
   "cell_type": "code",
   "execution_count": 4,
   "id": "23aa0926",
   "metadata": {},
   "outputs": [],
   "source": [
    "import napari\n",
    "v = napari.Viewer()"
   ]
  },
  {
   "cell_type": "code",
   "execution_count": null,
   "id": "d348bd3e",
   "metadata": {},
   "outputs": [
    {
     "data": {
      "text/plain": [
       "<Image layer 'calcium' at 0x1095bbb9960>"
      ]
     },
     "execution_count": 5,
     "metadata": {},
     "output_type": "execute_result"
    },
    {
     "name": "stderr",
     "output_type": "stream",
     "text": [
      "INFO:napari_ctc_io.reader:Loaded tracks from C:\\Users\\Cyril\\Desktop\\Code\\tumorscope\\DATA\\tracked\\man_track.txt\n",
      "INFO:napari_ctc_io.reader:Running CTC format checks\n",
      "WARNING:napari_ctc_io.reader:1 non-connected masks at t=1.\n",
      "WARNING:napari_ctc_io.reader:1 non-connected masks at t=2.\n",
      "WARNING:napari_ctc_io.reader:3 non-connected masks at t=3.\n",
      "WARNING:napari_ctc_io.reader:1 non-connected masks at t=6.\n",
      "WARNING:napari_ctc_io.reader:1 non-connected masks at t=7.\n",
      "WARNING:napari_ctc_io.reader:1 non-connected masks at t=8.\n",
      "WARNING:napari_ctc_io.reader:2 non-connected masks at t=9.\n",
      "WARNING:napari_ctc_io.reader:2 non-connected masks at t=10.\n",
      "WARNING:napari_ctc_io.reader:3 non-connected masks at t=11.\n",
      "WARNING:napari_ctc_io.reader:2 non-connected masks at t=12.\n",
      "WARNING:napari_ctc_io.reader:1 non-connected masks at t=14.\n",
      "WARNING:napari_ctc_io.reader:2 non-connected masks at t=15.\n",
      "WARNING:napari_ctc_io.reader:2 non-connected masks at t=16.\n",
      "WARNING:napari_ctc_io.reader:3 non-connected masks at t=17.\n",
      "WARNING:napari_ctc_io.reader:1 non-connected masks at t=19.\n",
      "WARNING:napari_ctc_io.reader:1 non-connected masks at t=20.\n",
      "WARNING:napari_ctc_io.reader:2 non-connected masks at t=21.\n",
      "WARNING:napari_ctc_io.reader:3 non-connected masks at t=22.\n",
      "WARNING:napari_ctc_io.reader:1 non-connected masks at t=23.\n",
      "WARNING:napari_ctc_io.reader:1 non-connected masks at t=24.\n",
      "WARNING:napari_ctc_io.reader:1 non-connected masks at t=25.\n",
      "WARNING:napari_ctc_io.reader:1 non-connected masks at t=26.\n",
      "WARNING:napari_ctc_io.reader:1 non-connected masks at t=27.\n",
      "WARNING:napari_ctc_io.reader:1 non-connected masks at t=29.\n",
      "WARNING:napari_ctc_io.reader:2 non-connected masks at t=30.\n",
      "WARNING:napari_ctc_io.reader:1 non-connected masks at t=32.\n",
      "WARNING:napari_ctc_io.reader:1 non-connected masks at t=33.\n",
      "WARNING:napari_ctc_io.reader:1 non-connected masks at t=36.\n",
      "WARNING:napari_ctc_io.reader:1 non-connected masks at t=37.\n",
      "WARNING:napari_ctc_io.reader:1 non-connected masks at t=38.\n",
      "WARNING:napari_ctc_io.reader:2 non-connected masks at t=39.\n",
      "WARNING:napari_ctc_io.reader:1 non-connected masks at t=40.\n",
      "WARNING:napari_ctc_io.reader:2 non-connected masks at t=43.\n",
      "WARNING:napari_ctc_io.reader:1 non-connected masks at t=44.\n",
      "WARNING:napari_ctc_io.reader:2 non-connected masks at t=46.\n",
      "WARNING:napari_ctc_io.reader:1 non-connected masks at t=48.\n",
      "WARNING:napari_ctc_io.reader:2 non-connected masks at t=49.\n",
      "WARNING:napari_ctc_io.reader:1 non-connected masks at t=50.\n",
      "WARNING:napari_ctc_io.reader:1 non-connected masks at t=51.\n",
      "WARNING:napari_ctc_io.reader:2 non-connected masks at t=53.\n",
      "WARNING:napari_ctc_io.reader:2 non-connected masks at t=54.\n",
      "WARNING:napari_ctc_io.reader:1 non-connected masks at t=55.\n",
      "WARNING:napari_ctc_io.reader:1 non-connected masks at t=58.\n",
      "WARNING:napari_ctc_io.reader:2 non-connected masks at t=59.\n",
      "WARNING:napari_ctc_io.reader:2 non-connected masks at t=60.\n",
      "WARNING:napari_ctc_io.reader:3 non-connected masks at t=62.\n",
      "WARNING:napari_ctc_io.reader:2 non-connected masks at t=64.\n",
      "WARNING:napari_ctc_io.reader:2 non-connected masks at t=65.\n",
      "WARNING:napari_ctc_io.reader:1 non-connected masks at t=69.\n",
      "WARNING:napari_ctc_io.reader:1 non-connected masks at t=70.\n",
      "WARNING:napari_ctc_io.reader:1 non-connected masks at t=71.\n",
      "WARNING:napari_ctc_io.reader:1 non-connected masks at t=72.\n",
      "WARNING:napari_ctc_io.reader:1 non-connected masks at t=73.\n",
      "WARNING:napari_ctc_io.reader:3 non-connected masks at t=74.\n",
      "WARNING:napari_ctc_io.reader:2 non-connected masks at t=75.\n",
      "WARNING:napari_ctc_io.reader:3 non-connected masks at t=76.\n",
      "WARNING:napari_ctc_io.reader:2 non-connected masks at t=77.\n",
      "WARNING:napari_ctc_io.reader:1 non-connected masks at t=79.\n",
      "WARNING:napari_ctc_io.reader:1 non-connected masks at t=81.\n",
      "WARNING:napari_ctc_io.reader:3 non-connected masks at t=82.\n",
      "WARNING:napari_ctc_io.reader:2 non-connected masks at t=83.\n",
      "WARNING:napari_ctc_io.reader:2 non-connected masks at t=84.\n",
      "WARNING:napari_ctc_io.reader:2 non-connected masks at t=85.\n",
      "WARNING:napari_ctc_io.reader:1 non-connected masks at t=86.\n",
      "WARNING:napari_ctc_io.reader:1 non-connected masks at t=88.\n",
      "WARNING:napari_ctc_io.reader:2 non-connected masks at t=89.\n",
      "WARNING:napari_ctc_io.reader:1 non-connected masks at t=90.\n",
      "WARNING:napari_ctc_io.reader:2 non-connected masks at t=92.\n",
      "WARNING:napari_ctc_io.reader:3 non-connected masks at t=95.\n",
      "WARNING:napari_ctc_io.reader:1 non-connected masks at t=96.\n",
      "WARNING:napari_ctc_io.reader:2 non-connected masks at t=97.\n",
      "WARNING:napari_ctc_io.reader:1 non-connected masks at t=98.\n",
      "WARNING:napari_ctc_io.reader:3 non-connected masks at t=99.\n",
      "WARNING:napari_ctc_io.reader:3 non-connected masks at t=100.\n",
      "WARNING:napari_ctc_io.reader:3 non-connected masks at t=101.\n",
      "WARNING:napari_ctc_io.reader:1 non-connected masks at t=104.\n",
      "WARNING:napari_ctc_io.reader:3 non-connected masks at t=105.\n",
      "WARNING:napari_ctc_io.reader:2 non-connected masks at t=109.\n",
      "WARNING:napari_ctc_io.reader:2 non-connected masks at t=110.\n",
      "WARNING:napari_ctc_io.reader:1 non-connected masks at t=111.\n",
      "WARNING:napari_ctc_io.reader:2 non-connected masks at t=113.\n",
      "WARNING:napari_ctc_io.reader:1 non-connected masks at t=115.\n",
      "WARNING:napari_ctc_io.reader:2 non-connected masks at t=116.\n",
      "WARNING:napari_ctc_io.reader:2 non-connected masks at t=117.\n",
      "WARNING:napari_ctc_io.reader:3 non-connected masks at t=118.\n",
      "WARNING:napari_ctc_io.reader:3 non-connected masks at t=119.\n",
      "WARNING:napari_ctc_io.reader:4 non-connected masks at t=120.\n",
      "WARNING:napari_ctc_io.reader:4 non-connected masks at t=121.\n",
      "WARNING:napari_ctc_io.reader:2 non-connected masks at t=122.\n",
      "WARNING:napari_ctc_io.reader:2 non-connected masks at t=123.\n",
      "WARNING:napari_ctc_io.reader:3 non-connected masks at t=124.\n",
      "WARNING:napari_ctc_io.reader:3 non-connected masks at t=125.\n",
      "WARNING:napari_ctc_io.reader:2 non-connected masks at t=126.\n",
      "WARNING:napari_ctc_io.reader:3 non-connected masks at t=127.\n",
      "WARNING:napari_ctc_io.reader:3 non-connected masks at t=128.\n",
      "WARNING:napari_ctc_io.reader:2 non-connected masks at t=129.\n",
      "WARNING:napari_ctc_io.reader:1 non-connected masks at t=132.\n",
      "WARNING:napari_ctc_io.reader:2 non-connected masks at t=133.\n",
      "WARNING:napari_ctc_io.reader:4 non-connected masks at t=134.\n",
      "WARNING:napari_ctc_io.reader:2 non-connected masks at t=136.\n",
      "WARNING:napari_ctc_io.reader:2 non-connected masks at t=137.\n",
      "WARNING:napari_ctc_io.reader:1 non-connected masks at t=141.\n",
      "WARNING:napari_ctc_io.reader:1 non-connected masks at t=142.\n",
      "WARNING:napari_ctc_io.reader:2 non-connected masks at t=145.\n",
      "WARNING:napari_ctc_io.reader:1 non-connected masks at t=146.\n",
      "WARNING:napari_ctc_io.reader:3 non-connected masks at t=147.\n",
      "WARNING:napari_ctc_io.reader:2 non-connected masks at t=149.\n",
      "WARNING:napari_ctc_io.reader:5 non-connected masks at t=150.\n",
      "WARNING:napari_ctc_io.reader:4 non-connected masks at t=151.\n",
      "WARNING:napari_ctc_io.reader:5 non-connected masks at t=152.\n",
      "WARNING:napari_ctc_io.reader:3 non-connected masks at t=153.\n",
      "WARNING:napari_ctc_io.reader:2 non-connected masks at t=154.\n",
      "WARNING:napari_ctc_io.reader:1 non-connected masks at t=155.\n",
      "WARNING:napari_ctc_io.reader:1 non-connected masks at t=157.\n",
      "WARNING:napari_ctc_io.reader:1 non-connected masks at t=158.\n",
      "WARNING:napari_ctc_io.reader:1 non-connected masks at t=159.\n",
      "WARNING:napari_ctc_io.reader:3 non-connected masks at t=161.\n",
      "INFO:napari_ctc_io.reader:Checks completed\n"
     ]
    }
   ],
   "source": [
    "v.add_image(image_resized, name=\"image\", colormap=\"viridis\")\n",
    "v.add_image(image_actin_resized, name=\"actin\", colormap=\"magma\")\n",
    "v.add_image(image_calcium_resized, name=\"calcium\", colormap=\"red\")"
   ]
  },
  {
   "cell_type": "code",
   "execution_count": 6,
   "id": "f67d8332-2e56-41ed-b90c-416d82b27505",
   "metadata": {},
   "outputs": [],
   "source": [
    "from pyclesperanto_prototype import difference_of_gaussian\n",
    "from skimage.segmentation import watershed\n",
    "from skimage.measure import regionprops"
   ]
  },
  {
   "cell_type": "code",
   "execution_count": 7,
   "id": "477ea5de-e0b6-48e1-a643-41ff64b14e34",
   "metadata": {},
   "outputs": [
    {
     "name": "stderr",
     "output_type": "stream",
     "text": [
      "8 warnings generated.\n",
      "8 warnings generated.\n",
      "8 warnings generated.\n",
      "8 warnings generated.\n"
     ]
    }
   ],
   "source": [
    "actin_dog = difference_of_gaussian(image_actin_resized, \n",
    "                                   sigma1_x=5, sigma2_x=10,\n",
    "                                   sigma1_y=5, sigma2_y=10,\n",
    "                                   sigma1_z=0, sigma2_z=0\n",
    "                                   ) * 1000\n",
    "actin_dog = np.array(actin_dog, dtype=np.float32)"
   ]
  },
  {
   "cell_type": "code",
   "execution_count": 8,
   "id": "2c779d72-42bd-4b48-a8e0-6bf1a63d275e",
   "metadata": {},
   "outputs": [],
   "source": [
    "actin_dog_filtered = np.where(actin_dog < 0.1, 0, actin_dog)\n",
    "# actin_dog_filtered = np.where(actin_dog_filtered > 0.3, 0, actin_dog_filtered)\n"
   ]
  },
  {
   "cell_type": "code",
   "execution_count": 9,
   "id": "327d3dbd-7d06-44a2-a1b6-40c6d6d83d1b",
   "metadata": {},
   "outputs": [],
   "source": [
    "actin_dog_filtered = np.array(actin_dog_filtered)"
   ]
  },
  {
   "cell_type": "code",
   "execution_count": 10,
   "id": "0a728886-56ac-43fd-b2df-8fdfd5d0c461",
   "metadata": {},
   "outputs": [
    {
     "data": {
      "application/vnd.jupyter.widget-view+json": {
       "model_id": "212284c68c814d2dbbb6a0b51d7df6d1",
       "version_major": 2,
       "version_minor": 0
      },
      "text/plain": [
       "  0%|          | 0/162 [00:00<?, ?it/s]"
      ]
     },
     "metadata": {},
     "output_type": "display_data"
    }
   ],
   "source": [
    "# actin_dog_filtered_labels = voronoi_otsu_labeling(actin_dog_filtered, spot_sigma=5, outline_sigma=2)\n",
    "actin_dog_filtered_labels = np.zeros_like(actin_dog_filtered)\n",
    "for t, frame in tqdm(enumerate(actin_dog_filtered), total=actin_dog_filtered.shape[0]):\n",
    "    frame_flipped = np.max(frame) - frame\n",
    "    frame_flipped = np.where(frame == 0, np.inf, frame_flipped)\n",
    "    wshed = watershed(frame_flipped)\n",
    "    actin_dog_filtered_labels[t] = np.where(frame != 0, wshed, 0)"
   ]
  },
  {
   "cell_type": "code",
   "execution_count": 11,
   "id": "a27648e4-929c-4a70-85b8-31d8853e415f",
   "metadata": {},
   "outputs": [],
   "source": [
    "# calcium_mask = np.where(image_calcium_resized > 0.003, 1, 0)\n",
    "# calcium_mask = np.array(calcium_mask, dtype=np.uint8)"
   ]
  },
  {
   "cell_type": "code",
   "execution_count": 12,
   "id": "0fc73e43-736e-4edb-94d1-9a3208b39a87",
   "metadata": {},
   "outputs": [],
   "source": [
    "def filter_labels_by_area(masks, min_area=None, max_area=None):\n",
    "    \"\"\"\n",
    "    Filter labels by area using regionprops.\n",
    "    \"\"\"\n",
    "    filtered_labels = np.zeros_like(masks, dtype=np.uint16)\n",
    "    for t in tqdm(range(masks.shape[0])):\n",
    "        labels = masks[t]\n",
    "        props = regionprops(labels)\n",
    "        for prop in props:\n",
    "            area = prop.area\n",
    "            if (min_area is None or area >= min_area) and (max_area is None or area <= max_area):\n",
    "                filtered_labels[t][labels == prop.label] = prop.label\n",
    "    return filtered_labels"
   ]
  },
  {
   "cell_type": "code",
   "execution_count": 13,
   "id": "101fc8c7-625b-4895-af29-0d046d2b8e32",
   "metadata": {},
   "outputs": [
    {
     "data": {
      "application/vnd.jupyter.widget-view+json": {
       "model_id": "cecd8dbfc41749d5a9bcb2f01be24f06",
       "version_major": 2,
       "version_minor": 0
      },
      "text/plain": [
       "  0%|          | 0/162 [00:00<?, ?it/s]"
      ]
     },
     "metadata": {},
     "output_type": "display_data"
    }
   ],
   "source": [
    "actin_dog_filtered_labels = filter_labels_by_area(actin_dog_filtered_labels.astype(np.uint16), min_area=100, max_area=None)"
   ]
  },
  {
   "cell_type": "code",
   "execution_count": 17,
   "id": "f17d5e30-b428-4a5a-8eff-76810ebefaa9",
   "metadata": {},
   "outputs": [
    {
     "name": "stderr",
     "output_type": "stream",
     "text": [
      "INFO:trackastra.model.model:Loading model state from /home/achard/.trackastra/.models/general_2d/model.pt\n"
     ]
    },
    {
     "name": "stdout",
     "output_type": "stream",
     "text": [
      "/home/achard/.trackastra/.models/general_2d already downloaded, skipping.\n"
     ]
    },
    {
     "name": "stderr",
     "output_type": "stream",
     "text": [
      "INFO:trackastra.model.model_api:Using device cuda\n"
     ]
    }
   ],
   "source": [
    "# Load a pretrained model\n",
    "from trackastra.model import Trackastra\n",
    "model = Trackastra.from_pretrained(\"general_2d\", device=\"cuda\")"
   ]
  },
  {
   "cell_type": "code",
   "execution_count": 30,
   "id": "d150bb08-8e38-4b12-8617-cae10cd8ba57",
   "metadata": {},
   "outputs": [
    {
     "name": "stderr",
     "output_type": "stream",
     "text": [
      "INFO:trackastra.model.model_api:Predicting weights for candidate graph\n",
      "INFO:trackastra.data.wrfeat:Extracting features from 162 detections\n",
      "INFO:trackastra.data.wrfeat:Using single process for feature extraction\n",
      "Extracting features: 100%|██████████| 162/162 [00:19<00:00,  8.46it/s]\n",
      "INFO:trackastra.model.model_api:Building windows\n",
      "Building windows: 100%|██████████| 159/159 [00:00<00:00, 11919.04it/s]\n",
      "INFO:trackastra.model.model_api:Predicting windows\n",
      "Computing associations: 100%|██████████| 159/159 [00:10<00:00, 15.68it/s]\n",
      "INFO:trackastra.model.model_api:Running greedy tracker\n",
      "INFO:trackastra.tracking.tracking:Build candidate graph with delta_t=1\n",
      "INFO:trackastra.tracking.tracking:Added 55415 vertices, 75651 edges                          \n",
      "INFO:trackastra.tracking.tracking:Running greedy tracker\n",
      "Greedily matched edges:  62%|██████▏   | 46742/75651 [00:00<00:00, 147159.39it/s]\n"
     ]
    }
   ],
   "source": [
    "# Track the cells\n",
    "track_graph = model.track(image_resized, actin_dog_filtered_labels.astype(np.uint16), mode=\"greedy_nodiv\", use_distance=True, max_distance=20, allow_divisions=False)  # or mode=\"ilp\", or \"greedy_nodiv\""
   ]
  },
  {
   "cell_type": "code",
   "execution_count": 31,
   "id": "6450700a-3426-4c23-a956-d312afce0368",
   "metadata": {},
   "outputs": [],
   "source": [
    "from trackastra.tracking import graph_to_ctc, graph_to_napari_tracks"
   ]
  },
  {
   "cell_type": "code",
   "execution_count": null,
   "id": "1c961d7d-92e8-4ffd-9054-5feec208b72f",
   "metadata": {},
   "outputs": [
    {
     "name": "stderr",
     "output_type": "stream",
     "text": [
      "Converting graph to CTC results: 100%|██████████| 5778/5778 [00:00<00:00, 6254.94it/s]\n",
      "Saving masks: 100%|██████████| 162/162 [00:00<00:00, 195.52it/s]\n"
     ]
    }
   ],
   "source": [
    "# Write to cell tracking challenge format\n",
    "ctc_tracks, masks_tracked = graph_to_ctc(\n",
    "      track_graph,\n",
    "      actin_dog_filtered_labels,\n",
    "      outdir=\"../../pvc/scratch/SHARE/cancer_cell_masks/series003_cCAR_tumor_tracked/actin_tracked\",\n",
    ")"
   ]
  },
  {
   "cell_type": "code",
   "execution_count": 12,
   "id": "bd1d8f4e",
   "metadata": {},
   "outputs": [],
   "source": [
    "from napari_ctc_io.reader import read_ctc, _ctc_to_napari_tracks\n",
    "from pathlib import Path\n",
    "import pandas as pd\n",
    "import numpy as np\n",
    "import napari"
   ]
  },
  {
   "cell_type": "code",
   "execution_count": 13,
   "id": "1420bc8f-85a2-419f-910b-c30ec6fefd5e",
   "metadata": {},
   "outputs": [
    {
     "name": "stderr",
     "output_type": "stream",
     "text": [
      "INFO:napari_ctc_io.reader:Loaded tracks from C:\\Users\\Cyril\\Desktop\\Code\\tumorscope\\DATA\\tracked\\man_track.txt\n",
      "INFO:napari_ctc_io.reader:Running CTC format checks\n",
      "WARNING:napari_ctc_io.reader:1 non-connected masks at t=1.\n",
      "WARNING:napari_ctc_io.reader:1 non-connected masks at t=2.\n",
      "WARNING:napari_ctc_io.reader:3 non-connected masks at t=3.\n",
      "WARNING:napari_ctc_io.reader:1 non-connected masks at t=6.\n",
      "WARNING:napari_ctc_io.reader:1 non-connected masks at t=7.\n",
      "WARNING:napari_ctc_io.reader:1 non-connected masks at t=8.\n",
      "WARNING:napari_ctc_io.reader:2 non-connected masks at t=9.\n",
      "WARNING:napari_ctc_io.reader:2 non-connected masks at t=10.\n",
      "WARNING:napari_ctc_io.reader:3 non-connected masks at t=11.\n",
      "WARNING:napari_ctc_io.reader:2 non-connected masks at t=12.\n",
      "WARNING:napari_ctc_io.reader:1 non-connected masks at t=14.\n",
      "WARNING:napari_ctc_io.reader:2 non-connected masks at t=15.\n",
      "WARNING:napari_ctc_io.reader:2 non-connected masks at t=16.\n",
      "WARNING:napari_ctc_io.reader:3 non-connected masks at t=17.\n",
      "WARNING:napari_ctc_io.reader:1 non-connected masks at t=19.\n",
      "WARNING:napari_ctc_io.reader:1 non-connected masks at t=20.\n",
      "WARNING:napari_ctc_io.reader:2 non-connected masks at t=21.\n",
      "WARNING:napari_ctc_io.reader:3 non-connected masks at t=22.\n",
      "WARNING:napari_ctc_io.reader:1 non-connected masks at t=23.\n",
      "WARNING:napari_ctc_io.reader:1 non-connected masks at t=24.\n",
      "WARNING:napari_ctc_io.reader:1 non-connected masks at t=25.\n",
      "WARNING:napari_ctc_io.reader:1 non-connected masks at t=26.\n",
      "WARNING:napari_ctc_io.reader:1 non-connected masks at t=27.\n",
      "WARNING:napari_ctc_io.reader:1 non-connected masks at t=29.\n",
      "WARNING:napari_ctc_io.reader:2 non-connected masks at t=30.\n",
      "WARNING:napari_ctc_io.reader:1 non-connected masks at t=32.\n",
      "WARNING:napari_ctc_io.reader:1 non-connected masks at t=33.\n",
      "WARNING:napari_ctc_io.reader:1 non-connected masks at t=36.\n",
      "WARNING:napari_ctc_io.reader:1 non-connected masks at t=37.\n",
      "WARNING:napari_ctc_io.reader:1 non-connected masks at t=38.\n",
      "WARNING:napari_ctc_io.reader:2 non-connected masks at t=39.\n",
      "WARNING:napari_ctc_io.reader:1 non-connected masks at t=40.\n",
      "WARNING:napari_ctc_io.reader:2 non-connected masks at t=43.\n",
      "WARNING:napari_ctc_io.reader:1 non-connected masks at t=44.\n",
      "WARNING:napari_ctc_io.reader:2 non-connected masks at t=46.\n",
      "WARNING:napari_ctc_io.reader:1 non-connected masks at t=48.\n",
      "WARNING:napari_ctc_io.reader:2 non-connected masks at t=49.\n",
      "WARNING:napari_ctc_io.reader:1 non-connected masks at t=50.\n",
      "WARNING:napari_ctc_io.reader:1 non-connected masks at t=51.\n",
      "WARNING:napari_ctc_io.reader:2 non-connected masks at t=53.\n",
      "WARNING:napari_ctc_io.reader:2 non-connected masks at t=54.\n",
      "WARNING:napari_ctc_io.reader:1 non-connected masks at t=55.\n",
      "WARNING:napari_ctc_io.reader:1 non-connected masks at t=58.\n",
      "WARNING:napari_ctc_io.reader:2 non-connected masks at t=59.\n",
      "WARNING:napari_ctc_io.reader:2 non-connected masks at t=60.\n",
      "WARNING:napari_ctc_io.reader:3 non-connected masks at t=62.\n",
      "WARNING:napari_ctc_io.reader:2 non-connected masks at t=64.\n",
      "WARNING:napari_ctc_io.reader:2 non-connected masks at t=65.\n",
      "WARNING:napari_ctc_io.reader:1 non-connected masks at t=69.\n",
      "WARNING:napari_ctc_io.reader:1 non-connected masks at t=70.\n",
      "WARNING:napari_ctc_io.reader:1 non-connected masks at t=71.\n",
      "WARNING:napari_ctc_io.reader:1 non-connected masks at t=72.\n",
      "WARNING:napari_ctc_io.reader:1 non-connected masks at t=73.\n",
      "WARNING:napari_ctc_io.reader:3 non-connected masks at t=74.\n",
      "WARNING:napari_ctc_io.reader:2 non-connected masks at t=75.\n",
      "WARNING:napari_ctc_io.reader:3 non-connected masks at t=76.\n",
      "WARNING:napari_ctc_io.reader:2 non-connected masks at t=77.\n",
      "WARNING:napari_ctc_io.reader:1 non-connected masks at t=79.\n",
      "WARNING:napari_ctc_io.reader:1 non-connected masks at t=81.\n",
      "WARNING:napari_ctc_io.reader:3 non-connected masks at t=82.\n",
      "WARNING:napari_ctc_io.reader:2 non-connected masks at t=83.\n",
      "WARNING:napari_ctc_io.reader:2 non-connected masks at t=84.\n",
      "WARNING:napari_ctc_io.reader:2 non-connected masks at t=85.\n",
      "WARNING:napari_ctc_io.reader:1 non-connected masks at t=86.\n",
      "WARNING:napari_ctc_io.reader:1 non-connected masks at t=88.\n",
      "WARNING:napari_ctc_io.reader:2 non-connected masks at t=89.\n",
      "WARNING:napari_ctc_io.reader:1 non-connected masks at t=90.\n",
      "WARNING:napari_ctc_io.reader:2 non-connected masks at t=92.\n",
      "WARNING:napari_ctc_io.reader:3 non-connected masks at t=95.\n",
      "WARNING:napari_ctc_io.reader:1 non-connected masks at t=96.\n",
      "WARNING:napari_ctc_io.reader:2 non-connected masks at t=97.\n",
      "WARNING:napari_ctc_io.reader:1 non-connected masks at t=98.\n",
      "WARNING:napari_ctc_io.reader:3 non-connected masks at t=99.\n",
      "WARNING:napari_ctc_io.reader:3 non-connected masks at t=100.\n",
      "WARNING:napari_ctc_io.reader:3 non-connected masks at t=101.\n",
      "WARNING:napari_ctc_io.reader:1 non-connected masks at t=104.\n",
      "WARNING:napari_ctc_io.reader:3 non-connected masks at t=105.\n",
      "WARNING:napari_ctc_io.reader:2 non-connected masks at t=109.\n",
      "WARNING:napari_ctc_io.reader:2 non-connected masks at t=110.\n",
      "WARNING:napari_ctc_io.reader:1 non-connected masks at t=111.\n",
      "WARNING:napari_ctc_io.reader:2 non-connected masks at t=113.\n",
      "WARNING:napari_ctc_io.reader:1 non-connected masks at t=115.\n",
      "WARNING:napari_ctc_io.reader:2 non-connected masks at t=116.\n",
      "WARNING:napari_ctc_io.reader:2 non-connected masks at t=117.\n",
      "WARNING:napari_ctc_io.reader:3 non-connected masks at t=118.\n",
      "WARNING:napari_ctc_io.reader:3 non-connected masks at t=119.\n",
      "WARNING:napari_ctc_io.reader:4 non-connected masks at t=120.\n",
      "WARNING:napari_ctc_io.reader:4 non-connected masks at t=121.\n",
      "WARNING:napari_ctc_io.reader:2 non-connected masks at t=122.\n",
      "WARNING:napari_ctc_io.reader:2 non-connected masks at t=123.\n",
      "WARNING:napari_ctc_io.reader:3 non-connected masks at t=124.\n",
      "WARNING:napari_ctc_io.reader:3 non-connected masks at t=125.\n",
      "WARNING:napari_ctc_io.reader:2 non-connected masks at t=126.\n",
      "WARNING:napari_ctc_io.reader:3 non-connected masks at t=127.\n",
      "WARNING:napari_ctc_io.reader:3 non-connected masks at t=128.\n",
      "WARNING:napari_ctc_io.reader:2 non-connected masks at t=129.\n",
      "WARNING:napari_ctc_io.reader:1 non-connected masks at t=132.\n",
      "WARNING:napari_ctc_io.reader:2 non-connected masks at t=133.\n",
      "WARNING:napari_ctc_io.reader:4 non-connected masks at t=134.\n",
      "WARNING:napari_ctc_io.reader:2 non-connected masks at t=136.\n",
      "WARNING:napari_ctc_io.reader:2 non-connected masks at t=137.\n",
      "WARNING:napari_ctc_io.reader:1 non-connected masks at t=141.\n",
      "WARNING:napari_ctc_io.reader:1 non-connected masks at t=142.\n",
      "WARNING:napari_ctc_io.reader:2 non-connected masks at t=145.\n",
      "WARNING:napari_ctc_io.reader:1 non-connected masks at t=146.\n",
      "WARNING:napari_ctc_io.reader:3 non-connected masks at t=147.\n",
      "WARNING:napari_ctc_io.reader:2 non-connected masks at t=149.\n",
      "WARNING:napari_ctc_io.reader:5 non-connected masks at t=150.\n",
      "WARNING:napari_ctc_io.reader:4 non-connected masks at t=151.\n",
      "WARNING:napari_ctc_io.reader:5 non-connected masks at t=152.\n",
      "WARNING:napari_ctc_io.reader:3 non-connected masks at t=153.\n",
      "WARNING:napari_ctc_io.reader:2 non-connected masks at t=154.\n",
      "WARNING:napari_ctc_io.reader:1 non-connected masks at t=155.\n",
      "WARNING:napari_ctc_io.reader:1 non-connected masks at t=157.\n",
      "WARNING:napari_ctc_io.reader:1 non-connected masks at t=158.\n",
      "WARNING:napari_ctc_io.reader:1 non-connected masks at t=159.\n",
      "WARNING:napari_ctc_io.reader:3 non-connected masks at t=161.\n",
      "INFO:napari_ctc_io.reader:Checks completed\n"
     ]
    }
   ],
   "source": [
    "masks, tracks, tracks_graph = read_ctc(\n",
    "    Path(r\"C:\\Users\\Cyril\\Desktop\\Code\\tumorscope\\DATA\\tracked\")\n",
    ")"
   ]
  },
  {
   "cell_type": "code",
   "execution_count": 14,
   "id": "ca5268c5",
   "metadata": {},
   "outputs": [],
   "source": [
    "tracks_df = pd.DataFrame(tracks, columns=[\"label\", \"frame\", \"x\", \"y\"])\n",
    "tracks_df.label = tracks_df.label.astype(np.uint16)\n",
    "tracks_df.frame = tracks_df.frame.astype(np.uint16)"
   ]
  },
  {
   "cell_type": "code",
   "execution_count": 15,
   "id": "c646bfb1",
   "metadata": {},
   "outputs": [],
   "source": [
    "def filter_masks_by_time(masks, tracks_df, min_length=5):\n",
    "    \"\"\"\n",
    "    Filter masks by their length.\n",
    "    \"\"\"\n",
    "    masks_ids = tracks_df.groupby(\"label\").size()\n",
    "    valid_masks = masks_ids[masks_ids >= min_length].index.values\n",
    "    # In the masks array (T, H, W), remove labels with values that are not in valid_masks\n",
    "    masks_filtered = np.zeros_like(masks, dtype=np.uint16)\n",
    "    for t in range(masks.shape[0]):\n",
    "        masks_filtered[t] = np.where(np.isin(masks[t], valid_masks), masks[t], 0)\n",
    "    tracks_df_filtered = tracks_df[tracks_df[\"label\"].isin(valid_masks)]\n",
    "    return masks_filtered, tracks_df_filtered"
   ]
  },
  {
   "cell_type": "code",
   "execution_count": 16,
   "id": "afe6d681",
   "metadata": {},
   "outputs": [],
   "source": [
    "masks_filtered, filtered_tracks_df = filter_masks_by_time(masks, tracks_df, min_length=10)"
   ]
  },
  {
   "cell_type": "code",
   "execution_count": 17,
   "id": "a915bfcb",
   "metadata": {},
   "outputs": [
    {
     "data": {
      "text/plain": [
       "<Tracks layer 'filtered_tracks' at 0x1d2e3a98070>"
      ]
     },
     "execution_count": 17,
     "metadata": {},
     "output_type": "execute_result"
    }
   ],
   "source": [
    "v.add_labels(masks_filtered, name=\"masks_filtered\")\n",
    "\n",
    "filtered_tracks = filtered_tracks_df.to_numpy().astype(np.float32)\n",
    "v.add_tracks(filtered_tracks, name=\"filtered_tracks\")\n"
   ]
  },
  {
   "cell_type": "code",
   "execution_count": 18,
   "id": "0f3fb5d9",
   "metadata": {},
   "outputs": [],
   "source": [
    "# import threshold\n",
    "from skimage.measure import label, regionprops"
   ]
  },
  {
   "cell_type": "code",
   "execution_count": null,
   "id": "5a955e2e",
   "metadata": {},
   "outputs": [],
   "source": [
    "from skimage.measure import regionprops\n",
    "\n",
    "def get_mask_area_over_time(masks_filtered):\n",
    "    \"\"\"\n",
    "    Plot the area of each mask over time.\n",
    "    \"\"\"\n",
    "    props_df = pd.DataFrame(columns=[\"label\", \"frame\", \"area\"])\n",
    "    \n",
    "    # Collect area data for each label over time\n",
    "    for t in range(masks_filtered.shape[0]):\n",
    "        labels = masks_filtered[t]\n",
    "        props = regionprops(labels)\n",
    "        for prop in props:\n",
    "            props_df = pd.concat([props_df, pd.DataFrame([[prop.label, t, prop.area]], \n",
    "                                                         columns=[\"label\", \"frame\", \"area\"])])\n",
    "    return props_df"
   ]
  },
  {
   "cell_type": "code",
   "execution_count": 71,
   "id": "afad4224",
   "metadata": {},
   "outputs": [],
   "source": [
    "control_masks = imread(root_path / \"masks/series009_B_NT_tumor.tif\")"
   ]
  },
  {
   "cell_type": "code",
   "execution_count": 66,
   "id": "95e26859",
   "metadata": {},
   "outputs": [
    {
     "name": "stderr",
     "output_type": "stream",
     "text": [
      "C:\\Users\\Cyril\\AppData\\Local\\Temp\\ipykernel_22312\\4127661609.py:14: FutureWarning: The behavior of DataFrame concatenation with empty or all-NA entries is deprecated. In a future version, this will no longer exclude empty or all-NA columns when determining the result dtypes. To retain the old behavior, exclude the relevant entries before the concat operation.\n",
      "  props_df = pd.concat([props_df, pd.DataFrame([[prop.label, t, prop.area]],\n"
     ]
    }
   ],
   "source": [
    "props_df = get_mask_area_over_time(masks_filtered)"
   ]
  },
  {
   "cell_type": "code",
   "execution_count": 72,
   "id": "3682fb2b",
   "metadata": {},
   "outputs": [
    {
     "name": "stderr",
     "output_type": "stream",
     "text": [
      "C:\\Users\\Cyril\\AppData\\Local\\Temp\\ipykernel_22312\\4127661609.py:14: FutureWarning: The behavior of DataFrame concatenation with empty or all-NA entries is deprecated. In a future version, this will no longer exclude empty or all-NA columns when determining the result dtypes. To retain the old behavior, exclude the relevant entries before the concat operation.\n",
      "  props_df = pd.concat([props_df, pd.DataFrame([[prop.label, t, prop.area]],\n"
     ]
    }
   ],
   "source": [
    "control_props_df = get_mask_area_over_time(control_masks.astype(np.uint16))"
   ]
  },
  {
   "cell_type": "code",
   "execution_count": 73,
   "id": "634d3f6d",
   "metadata": {},
   "outputs": [],
   "source": [
    "# plot_area_evolution(props_df[props_df.area < 5000])"
   ]
  },
  {
   "cell_type": "code",
   "execution_count": null,
   "id": "9f39d702",
   "metadata": {},
   "outputs": [],
   "source": [
    "import matplotlib.pyplot as plt\n",
    "import seaborn as sns\n",
    "def plot_mean_area_evolution(dataframes, labels):\n",
    "    \"\"\"\n",
    "    Plot the mean area evolution over time with error bars for multiple DataFrames.\n",
    "    \n",
    "    Parameters:\n",
    "    - dataframes: List of pandas DataFrames, each containing \"frame\" and \"area\" columns.\n",
    "    - labels: List of labels corresponding to each DataFrame for the legend.\n",
    "    \"\"\"\n",
    "    with plt.style.context(\"dark_background\"):\n",
    "        fig = plt.figure(figsize=(10, 5))\n",
    "        fig.patch.set_alpha(0)  # Make background transparent\n",
    "        ax = fig.add_subplot(111)\n",
    "        ax.set_facecolor((0, 0, 0, 0))\n",
    "\n",
    "        # Define a color palette\n",
    "        colors = sns.color_palette(\"husl\", len(dataframes))\n",
    "\n",
    "        # Plot each DataFrame\n",
    "        for df, label, color in zip(dataframes, labels, colors):\n",
    "            sns.lineplot(\n",
    "                data=df,\n",
    "                x=\"frame\",\n",
    "                y=\"area\",\n",
    "                ax=ax,\n",
    "                color=color,\n",
    "                linewidth=2,\n",
    "                errorbar=(\"ci\",95),  # Confidence interval for error bars\n",
    "                label=label\n",
    "            )\n",
    "\n",
    "        ax.set_xlabel(\"Time\")\n",
    "        ax.set_ylabel(\"Mean Area\")\n",
    "        sns.despine(ax=ax, top=True, right=True, left=False, bottom=False)\n",
    "        # ax.legend(loc=\"upper right\", title=\"DataFrames\")\n",
    "        # Disable legend\n",
    "        ax.legend().set_visible(False)\n",
    "        # Save as SVG\n",
    "        plt.savefig(\"mean_mask_area_over_time.svg\", transparent=True, bbox_inches=\"tight\")\n",
    "        plt.show()"
   ]
  },
  {
   "cell_type": "code",
   "execution_count": 75,
   "id": "cb858875",
   "metadata": {},
   "outputs": [
    {
     "data": {
      "image/png": "[encoded data removed]",
      "text/plain": [
       "<Figure size 1000x500 with 1 Axes>"
      ]
     },
     "metadata": {
      "needs_background": "dark"
     },
     "output_type": "display_data"
    }
   ],
   "source": [
    "plot_mean_area_evolution([props_df[props_df.area < 5000], control_props_df[control_props_df.area < 5000]], labels=[\"CAR-T Cells\", \"Control\"])"
   ]
  },
  {
   "cell_type": "code",
   "execution_count": 31,
   "id": "18a0db5c",
   "metadata": {},
   "outputs": [],
   "source": [
    "calcium_mask = np.where(image_calcium_resized > 0.003, 1, 0)\n",
    "calcium_mask = label(calcium_mask, connectivity=1)"
   ]
  },
  {
   "cell_type": "code",
   "execution_count": 35,
   "id": "87d232ad",
   "metadata": {},
   "outputs": [],
   "source": [
    "def filter_labels_by_area(masks, min_area=None, max_area=None):\n",
    "    \"\"\"\n",
    "    Filter labels by area using regionprops.\n",
    "    \"\"\"\n",
    "    filtered_labels = np.zeros_like(masks, dtype=np.uint16)\n",
    "    for t in tqdm(range(masks.shape[0])):\n",
    "        labels = masks[t]\n",
    "        props = regionprops(labels)\n",
    "        for prop in props:\n",
    "            area = prop.area\n",
    "            if (min_area is None or area >= min_area) and (max_area is None or area <= max_area):\n",
    "                filtered_labels[t][labels == prop.label] = prop.label\n",
    "    return filtered_labels"
   ]
  },
  {
   "cell_type": "code",
   "execution_count": 36,
   "id": "cd0d130b",
   "metadata": {},
   "outputs": [
    {
     "name": "stderr",
     "output_type": "stream",
     "text": [
      "100%|██████████| 162/162 [00:01<00:00, 154.35it/s]\n"
     ]
    }
   ],
   "source": [
    "calcium_mask = filter_labels_by_area(calcium_mask.astype(np.uint16), min_area=100, max_area=None)"
   ]
  },
  {
   "cell_type": "code",
   "execution_count": 38,
   "id": "36f88ec3",
   "metadata": {},
   "outputs": [
    {
     "data": {
      "text/plain": [
       "<Labels layer 'calcium_mask [1]' at 0x1c9ac133a90>"
      ]
     },
     "execution_count": 38,
     "metadata": {},
     "output_type": "execute_result"
    }
   ],
   "source": [
    "v.add_labels(calcium_mask, name=\"calcium_mask\")"
   ]
  },
  {
   "cell_type": "code",
   "execution_count": 82,
   "id": "655bb1af",
   "metadata": {},
   "outputs": [],
   "source": [
    "from dataclasses import dataclass\n",
    "import numpy as np\n",
    "from tqdm import tqdm\n",
    "\n",
    "@dataclass\n",
    "class TCell:\n",
    "    label: int\n",
    "    calcium_labels: dict\n",
    "    N_frames_calcium_positive: int = 0\n",
    "\n",
    "def get_calcium_positive_labels(actin_masks, calcium_masks):\n",
    "    \"\"\"\n",
    "    Get the labels of the masks that have positive calcium channel, tracking them across frames.\n",
    "    \"\"\"\n",
    "    merged_tracking_masks = actin_masks.copy()\n",
    "    tcells = {}\n",
    "\n",
    "    for t in tqdm(range(actin_masks.shape[0])):\n",
    "        if np.all(calcium_masks[t] == 0):\n",
    "            continue\n",
    "\n",
    "        actin_labels = np.unique(actin_masks[t])\n",
    "        calcium_labels = np.unique(calcium_masks[t])\n",
    "\n",
    "        actin_labels = actin_labels[actin_labels != 0]\n",
    "        calcium_labels = calcium_labels[calcium_labels != 0]\n",
    "\n",
    "        for calcium_lab in calcium_labels:\n",
    "            calcium_overlap = np.where(calcium_masks[t] == calcium_lab, actin_masks[t], 0)\n",
    "            positive_actin_labels = np.unique(calcium_overlap)\n",
    "            positive_actin_labels = positive_actin_labels[positive_actin_labels != 0]\n",
    "            # in the WHOLE merged tracking masks, change the values of other labels that touch this calcium label to the first actin label\n",
    "            if len(positive_actin_labels) > 0:\n",
    "                # merged_tracking_masks[np.where(np.isin(merged_tracking_masks, positive_actin_labels))] = positive_actin_labels[0]\n",
    "                # if the label is not in the dictionary, create a new TCell object\n",
    "                if positive_actin_labels[0] not in tcells:\n",
    "                    tcells[positive_actin_labels[0]] = TCell(label=positive_actin_labels[0], calcium_labels={t : calcium_lab})\n",
    "                # if the label is in the dictionary, add the calcium label to the dictionary\n",
    "                else:\n",
    "                    tcells[positive_actin_labels[0]].calcium_labels[t] = calcium_lab\n",
    "                tcells[positive_actin_labels[0]].N_frames_calcium_positive += 1\n",
    "    return merged_tracking_masks, tcells"
   ]
  },
  {
   "cell_type": "code",
   "execution_count": null,
   "id": "9c707490",
   "metadata": {},
   "outputs": [
    {
     "name": "stderr",
     "output_type": "stream",
     "text": [
      "  0%|          | 0/162 [00:00<?, ?it/s]"
     ]
    },
    {
     "name": "stderr",
     "output_type": "stream",
     "text": [
      "100%|██████████| 162/162 [00:06<00:00, 23.82it/s]\n"
     ]
    }
   ],
   "source": [
    "_, tcells = get_calcium_positive_labels(masks_filtered, calcium_mask)"
   ]
  },
  {
   "cell_type": "code",
   "execution_count": 91,
   "id": "95abc5cb",
   "metadata": {},
   "outputs": [],
   "source": [
    "def group_tcells_by_calcium_labels(tcells):\n",
    "    \"\"\"Find all T cells which at some point touch the same calcium label.\"\"\"\n",
    "    tcells_labels = {}\n",
    "    for tcell in tcells.values():\n",
    "        for calcium_label in tcell.calcium_labels.values():\n",
    "            if tcell.label not in tcells_labels:\n",
    "                tcells_labels[tcell.label] = [calcium_label]\n",
    "            else:\n",
    "                if calcium_label not in tcells_labels[tcell.label]:\n",
    "                    tcells_labels[tcell.label].append(calcium_label)\n",
    "    return tcells_labels"
   ]
  },
  {
   "cell_type": "code",
   "execution_count": 92,
   "id": "71002de4",
   "metadata": {},
   "outputs": [],
   "source": [
    "tcell_labels = group_tcells_by_calcium_labels(tcells)"
   ]
  },
  {
   "cell_type": "code",
   "execution_count": 93,
   "id": "a2f6ccac",
   "metadata": {},
   "outputs": [
    {
     "data": {
      "text/plain": [
       "{78: [8],\n",
       " 123: [25, 450, 891],\n",
       " 7: [35, 473, 908],\n",
       " 30: [49, 497, 905, 1381],\n",
       " 22: [93],\n",
       " 66: [105, 536],\n",
       " 110: [111, 549, 965],\n",
       " 2: [118],\n",
       " 20: [120],\n",
       " 5: [129, 567, 989],\n",
       " 49: [147],\n",
       " 73: [155, 593, 1000],\n",
       " 105: [156, 600],\n",
       " 85: [158, 603, 1001],\n",
       " 16: [170],\n",
       " 62: [181, 609, 1024],\n",
       " 23: [175, 614, 1025, 1533, 1998],\n",
       " 138: [178, 617, 1030, 1554],\n",
       " 39: [189, 660],\n",
       " 114: [192],\n",
       " 47: [217, 666, 1070],\n",
       " 36: [252, 687, 1143, 1642, 2102, 2572, 3056, 3543],\n",
       " 14: [299],\n",
       " 40: [322, 745],\n",
       " 42: [323],\n",
       " 18: [333],\n",
       " 98: [347],\n",
       " 58: [353, 762, 1241, 1722, 2171],\n",
       " 126: [374, 808],\n",
       " 103: [402, 819, 1287],\n",
       " 3: [416, 825],\n",
       " 8: [432],\n",
       " 68: [433, 850],\n",
       " 183: [464],\n",
       " 104: [489],\n",
       " 286: [492],\n",
       " 375: [518, 940],\n",
       " 236: [519, 935, 1409],\n",
       " 371: [537],\n",
       " 275: [550, 961],\n",
       " 255: [551],\n",
       " 50: [554],\n",
       " 385: [575, 976, 1458],\n",
       " 140: [615],\n",
       " 157: [619],\n",
       " 316: [633],\n",
       " 278: [637, 1054, 1563],\n",
       " 158: [647],\n",
       " 171: [649, 1581],\n",
       " 328: [656],\n",
       " 205: [668, 1057, 1576, 2022, 2506],\n",
       " 173: [681, 1083],\n",
       " 343: [696],\n",
       " 284: [704],\n",
       " 164: [705],\n",
       " 182: [706],\n",
       " 196: [724, 1142],\n",
       " 381: [743, 1177],\n",
       " 210: [748, 1193, 1699],\n",
       " 51: [763],\n",
       " 199: [800],\n",
       " 303: [806, 1258],\n",
       " 293: [820],\n",
       " 256: [823, 1278],\n",
       " 177: [839],\n",
       " 364: [841],\n",
       " 151: [854],\n",
       " 226: [863, 1320, 2274],\n",
       " 17: [879, 1349],\n",
       " 515: [880, 1353, 1848],\n",
       " 295: [890],\n",
       " 415: [896],\n",
       " 465: [936],\n",
       " 430: [946],\n",
       " 74: [957],\n",
       " 21: [971],\n",
       " 532: [984],\n",
       " 197: [1003, 1517],\n",
       " 588: [1029, 1545],\n",
       " 483: [1032],\n",
       " 342: [1051],\n",
       " 650: [1059],\n",
       " 89: [1063, 2041],\n",
       " 585: [1147, 1640],\n",
       " 597: [1186, 1698, 2144, 2611, 3100, 3591, 4110, 4628],\n",
       " 44: [1200, 1693, 2134, 2604, 3081],\n",
       " 475: [1207, 1705],\n",
       " 429: [1257],\n",
       " 11: [1264, 1759],\n",
       " 374: [1281, 1769, 2233, 2684, 3691],\n",
       " 216: [1282, 3193],\n",
       " 654: [1285, 1772, 2227],\n",
       " 301: [1297],\n",
       " 436: [1304],\n",
       " 486: [1315],\n",
       " 410: [1317, 1793],\n",
       " 788: [1357],\n",
       " 841: [1382, 1872],\n",
       " 707: [1387],\n",
       " 765: [1391, 1886],\n",
       " 670: [1416],\n",
       " 770: [1421],\n",
       " 130: [1424],\n",
       " 726: [1428],\n",
       " 948: [1429, 1904],\n",
       " 538: [1433],\n",
       " 652: [1448],\n",
       " 775: [1503],\n",
       " 574: [1504, 2897],\n",
       " 653: [1506, 1968],\n",
       " 658: [1516],\n",
       " 692: [1585],\n",
       " 562: [1592],\n",
       " 672: [1602, 2553, 3018],\n",
       " 914: [1605, 2067, 2547],\n",
       " 625: [1622],\n",
       " 799: [1653, 2095],\n",
       " 889: [1677],\n",
       " 706: [1681],\n",
       " 249: [1683],\n",
       " 854: [1688, 3069],\n",
       " 811: [1740],\n",
       " 591: [1742, 2652, 3159],\n",
       " 774: [1746],\n",
       " 743: [1756, 2207],\n",
       " 802: [1761],\n",
       " 542: [1771, 2240],\n",
       " 742: [1775],\n",
       " 805: [1826],\n",
       " 865: [1857],\n",
       " 678: [1869],\n",
       " 761: [1882, 2806],\n",
       " 983: [1894],\n",
       " 866: [1896],\n",
       " 796: [1903, 2391, 2827],\n",
       " 1066: [1910],\n",
       " 1130: [1913, 2405],\n",
       " 1216: [1917, 2404],\n",
       " 1174: [1920],\n",
       " 980: [1951],\n",
       " 1155: [1956],\n",
       " 921: [1981],\n",
       " 991: [1982],\n",
       " 1212: [1985, 2455, 2933, 3435, 3960],\n",
       " 736: [2007],\n",
       " 1083: [2008, 2482, 2950],\n",
       " 1222: [2021],\n",
       " 1056: [2031, 2510, 2985],\n",
       " 411: [2035],\n",
       " 1204: [2042, 2518],\n",
       " 1042: [2049, 2520, 2997, 4022, 4513, 4953],\n",
       " 1135: [2055, 2516],\n",
       " 946: [2056],\n",
       " 976: [2057, 2536, 2995, 3488],\n",
       " 1021: [2068],\n",
       " 961: [2069],\n",
       " 446: [2078, 2563],\n",
       " 1252: [2087, 2578],\n",
       " 863: [2119, 2603],\n",
       " 960: [2135, 2609],\n",
       " 859: [2157, 2644],\n",
       " 1243: [2172],\n",
       " 1188: [2222],\n",
       " 882: [2228, 2665],\n",
       " 1069: [2247],\n",
       " 1033: [2266],\n",
       " 801: [2284],\n",
       " 1063: [2298],\n",
       " 1047: [2328],\n",
       " 978: [2347],\n",
       " 1513: [2355],\n",
       " 1449: [2373],\n",
       " 1307: [2390],\n",
       " 1059: [2502, 2974],\n",
       " 1370: [2507, 2980],\n",
       " 1361: [2511, 2987],\n",
       " 63: [2512],\n",
       " 1241: [2514],\n",
       " 1394: [2539, 3013, 3499],\n",
       " 1266: [2550],\n",
       " 904: [2564, 3047, 4075, 5024, 5460, 5939, 6404],\n",
       " 1088: [2633, 3131],\n",
       " 1406: [2640, 3136],\n",
       " 1343: [2646],\n",
       " 1323: [2663],\n",
       " 1443: [2677],\n",
       " 1064: [2682, 3191, 3703],\n",
       " 1154: [2707],\n",
       " 1226: [2715],\n",
       " 1418: [2720, 3223],\n",
       " 807: [2723],\n",
       " 1186: [2732],\n",
       " 1431: [2736, 3238, 3758, 4266, 4740],\n",
       " 1273: [2754, 3262],\n",
       " 1600: [2787, 3278],\n",
       " 1815: [2799, 3280],\n",
       " 1654: [2826, 3319, 3838, 4370],\n",
       " 1504: [2830],\n",
       " 1845: [2837],\n",
       " 1650: [2853],\n",
       " 1606: [2852, 3350],\n",
       " 1448: [2856, 3370, 3880],\n",
       " 1655: [2867],\n",
       " 1702: [2883],\n",
       " 1566: [2887],\n",
       " 500: [2918, 4921],\n",
       " 1086: [2930, 3984],\n",
       " 1381: [2945, 3437],\n",
       " 1351: [2947],\n",
       " 1628: [2982],\n",
       " 1828: [2986],\n",
       " 76: [3003],\n",
       " 1657: [3019],\n",
       " 1728: [3023, 3511, 4023],\n",
       " 1502: [3029],\n",
       " 1658: [3062],\n",
       " 1464: [3079],\n",
       " 1765: [3097],\n",
       " 1440: [3157, 3674, 4680, 5102, 5542, 6000, 6457, 6896, 7314, 7728],\n",
       " 1865: [3162],\n",
       " 1507: [3174],\n",
       " 1631: [3176],\n",
       " 1889: [3183, 3704],\n",
       " 1661: [3202],\n",
       " 1223: [3230],\n",
       " 1689: [3251],\n",
       " 2028: [3283, 3809],\n",
       " 1878: [3295],\n",
       " 1992: [3301],\n",
       " 1384: [3303],\n",
       " 2024: [3326],\n",
       " 1830: [3331, 3840, 4367],\n",
       " 122: [3342, 3850, 5244, 5705],\n",
       " 1936: [3349, 3859, 4396, 4848, 5279, 5753],\n",
       " 1610: [3388],\n",
       " 1362: [3399],\n",
       " 2037: [3409, 4427],\n",
       " 2100: [3411],\n",
       " 2008: [3413],\n",
       " 1976: [3415],\n",
       " 1617: [3422, 3927, 4425, 4878],\n",
       " 1935: [3441],\n",
       " 2168: [3446, 3962],\n",
       " 2005: [3470],\n",
       " 1948: [3474, 3988, 4934, 5359, 5821],\n",
       " 1905: [3478, 3997, 4493, 4947, 5370],\n",
       " 1916: [3490, 4009, 4485, 4932],\n",
       " 1040: [3493, 4016, 4505, 4952, 5379, 5854, 6322, 6715, 7131, 7533],\n",
       " 2030: [3504],\n",
       " 648: [3514],\n",
       " 2003: [3535],\n",
       " 739: [3537, 4562],\n",
       " 1704: [3558, 4085],\n",
       " 1754: [3564, 4091],\n",
       " 2002: [3565],\n",
       " 2116: [3628, 4152],\n",
       " 2016: [3641, 4178, 4661],\n",
       " 2176: [3646, 4175],\n",
       " 2155: [3664, 4177, 4675, 5098],\n",
       " 1851: [3689],\n",
       " 1932: [3692, 4204, 4676],\n",
       " 1691: [3733, 4220],\n",
       " 1688: [3739],\n",
       " 1822: [3747],\n",
       " 2289: [3795],\n",
       " 2181: [3828],\n",
       " 843: [3834],\n",
       " 2276: [3885, 4424],\n",
       " 2032: [3961, 4468],\n",
       " 25: [3963, 4459, 4917, 5339, 5784, 6256, 6674, 7066],\n",
       " 666: [4018],\n",
       " 1700: [4031],\n",
       " 2255: [4033],\n",
       " 2273: [4034, 4526],\n",
       " 2408: [4054, 4552],\n",
       " 1124: [4074],\n",
       " 1842: [4092, 5031, 5459, 5933, 6391, 6776, 7205],\n",
       " 1971: [4099],\n",
       " 2298: [4102, 4595],\n",
       " 2502: [4118],\n",
       " 2294: [4192],\n",
       " 70: [4200],\n",
       " 2471: [4206],\n",
       " 2485: [4323],\n",
       " 2808: [4383, 4813],\n",
       " 2855: [4440],\n",
       " 2725: [4441],\n",
       " 1955: [4453],\n",
       " 331: [4454, 4892],\n",
       " 2170: [4506, 4957],\n",
       " 2621: [4522, 4960, 5374, 5855],\n",
       " 2548: [4528],\n",
       " 2663: [4580, 5030],\n",
       " 2638: [4586],\n",
       " 2314: [4657],\n",
       " 2540: [4666],\n",
       " 2634: [4688],\n",
       " 2566: [4699, 5121],\n",
       " 2561: [4710, 5126, 5580, 6064],\n",
       " 2528: [4711],\n",
       " 2323: [4716, 5144],\n",
       " 2987: [4776, 5203],\n",
       " 3086: [4800, 5223, 5673],\n",
       " 2952: [4821],\n",
       " 2616: [4844, 5258],\n",
       " 2809: [4845],\n",
       " 3090: [4886, 5296],\n",
       " 2802: [4900, 5353, 5787],\n",
       " 2932: [4962, 5384, 5868],\n",
       " 3009: [4996],\n",
       " 3221: [5006],\n",
       " 1578: [5021, 6338],\n",
       " 2937: [5022, 5446, 5931],\n",
       " 3027: [5044, 5485],\n",
       " 2896: [5060],\n",
       " 3161: [5108],\n",
       " 3133: [5167],\n",
       " 2947: [5168],\n",
       " 2489: [5183, 5604, 6119],\n",
       " 3326: [5222],\n",
       " 6: [5225],\n",
       " 3405: [5245],\n",
       " 3229: [5285],\n",
       " 1939: [5330],\n",
       " 3307: [5341, 5777],\n",
       " 3082: [5343],\n",
       " 3194: [5378],\n",
       " 3280: [5428, 5928],\n",
       " 3247: [5429],\n",
       " 3036: [5455, 5938],\n",
       " 3597: [5532],\n",
       " 3657: [5536, 6013],\n",
       " 3445: [5537, 6010],\n",
       " 2436: [5539, 6021],\n",
       " 1868: [5543],\n",
       " 3582: [5592],\n",
       " 1749: [5595],\n",
       " 3601: [5613, 6127],\n",
       " 3436: [5621],\n",
       " 3659: [5654, 6146, 6963, 7379],\n",
       " 2480: [5661],\n",
       " 3989: [5662, 6158],\n",
       " 3566: [5672],\n",
       " 4000: [5692],\n",
       " 3670: [5711],\n",
       " 3653: [5761],\n",
       " 3831: [5783],\n",
       " 3658: [5785],\n",
       " 3534: [5808],\n",
       " 2388: [5835],\n",
       " 2877: [5862, 6337],\n",
       " 3660: [5894],\n",
       " 3400: [5957],\n",
       " 3460: [5958, 6424],\n",
       " 3733: [5961],\n",
       " 4057: [6065, 6526, 6914],\n",
       " 4067: [6183],\n",
       " 4362: [6187],\n",
       " 3633: [6193, 6620],\n",
       " 4128: [6222, 6648],\n",
       " 4174: [6223],\n",
       " 4373: [6247, 6661],\n",
       " 3426: [6264],\n",
       " 4401: [6318, 6718],\n",
       " 4412: [6394, 7172],\n",
       " 2429: [6397, 6786, 7217, 7601],\n",
       " 3969: [6416],\n",
       " 4056: [6460],\n",
       " 4466: [6467],\n",
       " 4008: [6487],\n",
       " 4035: [6504],\n",
       " 4287: [6529],\n",
       " 4010: [6595],\n",
       " 3794: [6600, 6990, 7401],\n",
       " 3358: [6614, 7000, 7405],\n",
       " 4557: [6651],\n",
       " 4740: [6668, 7079],\n",
       " 4354: [6698, 7482],\n",
       " 4808: [6707],\n",
       " 4097: [6716, 7124],\n",
       " 4335: [6725],\n",
       " 4501: [6729],\n",
       " 4524: [6733],\n",
       " 4830: [6743],\n",
       " 4831: [6752, 7181, 7580],\n",
       " 4876: [6767, 7195, 7586],\n",
       " 3469: [6812],\n",
       " 3006: [6818, 7248],\n",
       " 4848: [6861, 7294, 7695],\n",
       " 4811: [6888, 7312, 7715],\n",
       " 3243: [6925],\n",
       " 3920: [6945, 7368],\n",
       " 5237: [6973],\n",
       " 4701: [6992],\n",
       " 4453: [7003, 7411],\n",
       " 4736: [7032],\n",
       " 5162: [7136],\n",
       " 5138: [7155, 7584],\n",
       " 3121: [7160, 7558],\n",
       " 4754: [7209],\n",
       " 4589: [7288],\n",
       " 3604: [7290, 7701],\n",
       " 5277: [7352, 7750],\n",
       " 4777: [7370],\n",
       " 5005: [7438],\n",
       " 5200: [7445],\n",
       " 5416: [7450],\n",
       " 4432: [7465],\n",
       " 5133: [7488],\n",
       " 5338: [7527],\n",
       " 4597: [7547],\n",
       " 4687: [7566],\n",
       " 5040: [7587],\n",
       " 4755: [7678]}"
      ]
     },
     "execution_count": 93,
     "metadata": {},
     "output_type": "execute_result"
    }
   ],
   "source": [
    "tcell_labels"
   ]
  },
  {
   "cell_type": "code",
   "execution_count": 96,
   "id": "f7eb74ba",
   "metadata": {},
   "outputs": [],
   "source": [
    "def generate_tcells_table(tcells_labels):\n",
    "    df = pd.DataFrame(columns=[\"tcell_label\", \"calcium_labels\", \"npositive_frames\"])\n",
    "    for tcell_label, calcium_labels in tcells_labels.items():\n",
    "        npositive_frames = len(calcium_labels)\n",
    "        if len(df) == 0:\n",
    "            df = pd.DataFrame([[tcell_label, calcium_labels, npositive_frames]], columns=[\"tcell_label\", \"calcium_labels\", \"npositive_frames\"])\n",
    "        else:\n",
    "            df = pd.concat([df, pd.DataFrame([[tcell_label, calcium_labels, npositive_frames]], columns=[\"tcell_label\", \"calcium_labels\", \"npositive_frames\"])])\n",
    "    return df"
   ]
  },
  {
   "cell_type": "code",
   "execution_count": 97,
   "id": "56e9bfca",
   "metadata": {},
   "outputs": [],
   "source": [
    "tcells_df = generate_tcells_table(tcell_labels)"
   ]
  },
  {
   "cell_type": "code",
   "execution_count": 98,
   "id": "3592d4e4",
   "metadata": {},
   "outputs": [
    {
     "data": {
      "application/vnd.microsoft.datawrangler.viewer.v0+json": {
       "columns": [
        {
         "name": "index",
         "rawType": "int64",
         "type": "integer"
        },
        {
         "name": "tcell_label",
         "rawType": "uint16",
         "type": "integer"
        },
        {
         "name": "calcium_labels",
         "rawType": "object",
         "type": "unknown"
        },
        {
         "name": "npositive_frames",
         "rawType": "int64",
         "type": "integer"
        }
       ],
       "conversionMethod": "pd.DataFrame",
       "ref": "8d01888e-f6c9-4e87-b8b7-d0a7c2de4274",
       "rows": [
        [
         "0",
         "78",
         "[8]",
         "1"
        ],
        [
         "0",
         "123",
         "[25, 450, 891]",
         "3"
        ],
        [
         "0",
         "7",
         "[35, 473, 908]",
         "3"
        ],
        [
         "0",
         "30",
         "[49, 497, 905, 1381]",
         "4"
        ],
        [
         "0",
         "22",
         "[93]",
         "1"
        ],
        [
         "0",
         "66",
         "[105, 536]",
         "2"
        ],
        [
         "0",
         "110",
         "[111, 549, 965]",
         "3"
        ],
        [
         "0",
         "2",
         "[118]",
         "1"
        ],
        [
         "0",
         "20",
         "[120]",
         "1"
        ],
        [
         "0",
         "5",
         "[129, 567, 989]",
         "3"
        ],
        [
         "0",
         "49",
         "[147]",
         "1"
        ],
        [
         "0",
         "73",
         "[155, 593, 1000]",
         "3"
        ],
        [
         "0",
         "105",
         "[156, 600]",
         "2"
        ],
        [
         "0",
         "85",
         "[158, 603, 1001]",
         "3"
        ],
        [
         "0",
         "16",
         "[170]",
         "1"
        ],
        [
         "0",
         "62",
         "[181, 609, 1024]",
         "3"
        ],
        [
         "0",
         "23",
         "[175, 614, 1025, 1533, 1998]",
         "5"
        ],
        [
         "0",
         "138",
         "[178, 617, 1030, 1554]",
         "4"
        ],
        [
         "0",
         "39",
         "[189, 660]",
         "2"
        ],
        [
         "0",
         "114",
         "[192]",
         "1"
        ],
        [
         "0",
         "47",
         "[217, 666, 1070]",
         "3"
        ],
        [
         "0",
         "36",
         "[252, 687, 1143, 1642, 2102, 2572, 3056, 3543]",
         "8"
        ],
        [
         "0",
         "14",
         "[299]",
         "1"
        ],
        [
         "0",
         "40",
         "[322, 745]",
         "2"
        ],
        [
         "0",
         "42",
         "[323]",
         "1"
        ],
        [
         "0",
         "18",
         "[333]",
         "1"
        ],
        [
         "0",
         "98",
         "[347]",
         "1"
        ],
        [
         "0",
         "58",
         "[353, 762, 1241, 1722, 2171]",
         "5"
        ],
        [
         "0",
         "126",
         "[374, 808]",
         "2"
        ],
        [
         "0",
         "103",
         "[402, 819, 1287]",
         "3"
        ],
        [
         "0",
         "3",
         "[416, 825]",
         "2"
        ],
        [
         "0",
         "8",
         "[432]",
         "1"
        ],
        [
         "0",
         "68",
         "[433, 850]",
         "2"
        ],
        [
         "0",
         "183",
         "[464]",
         "1"
        ],
        [
         "0",
         "104",
         "[489]",
         "1"
        ],
        [
         "0",
         "286",
         "[492]",
         "1"
        ],
        [
         "0",
         "375",
         "[518, 940]",
         "2"
        ],
        [
         "0",
         "236",
         "[519, 935, 1409]",
         "3"
        ],
        [
         "0",
         "371",
         "[537]",
         "1"
        ],
        [
         "0",
         "275",
         "[550, 961]",
         "2"
        ],
        [
         "0",
         "255",
         "[551]",
         "1"
        ],
        [
         "0",
         "50",
         "[554]",
         "1"
        ],
        [
         "0",
         "385",
         "[575, 976, 1458]",
         "3"
        ],
        [
         "0",
         "140",
         "[615]",
         "1"
        ],
        [
         "0",
         "157",
         "[619]",
         "1"
        ],
        [
         "0",
         "316",
         "[633]",
         "1"
        ],
        [
         "0",
         "278",
         "[637, 1054, 1563]",
         "3"
        ],
        [
         "0",
         "158",
         "[647]",
         "1"
        ],
        [
         "0",
         "171",
         "[649, 1581]",
         "2"
        ],
        [
         "0",
         "328",
         "[656]",
         "1"
        ]
       ],
       "shape": {
        "columns": 3,
        "rows": 414
       }
      },
      "text/html": [
       "<div>\n",
       "<style scoped>\n",
       "    .dataframe tbody tr th:only-of-type {\n",
       "        vertical-align: middle;\n",
       "    }\n",
       "\n",
       "    .dataframe tbody tr th {\n",
       "        vertical-align: top;\n",
       "    }\n",
       "\n",
       "    .dataframe thead th {\n",
       "        text-align: right;\n",
       "    }\n",
       "</style>\n",
       "<table border=\"1\" class=\"dataframe\">\n",
       "  <thead>\n",
       "    <tr style=\"text-align: right;\">\n",
       "      <th></th>\n",
       "      <th>tcell_label</th>\n",
       "      <th>calcium_labels</th>\n",
       "      <th>npositive_frames</th>\n",
       "    </tr>\n",
       "  </thead>\n",
       "  <tbody>\n",
       "    <tr>\n",
       "      <th>0</th>\n",
       "      <td>78</td>\n",
       "      <td>[8]</td>\n",
       "      <td>1</td>\n",
       "    </tr>\n",
       "    <tr>\n",
       "      <th>0</th>\n",
       "      <td>123</td>\n",
       "      <td>[25, 450, 891]</td>\n",
       "      <td>3</td>\n",
       "    </tr>\n",
       "    <tr>\n",
       "      <th>0</th>\n",
       "      <td>7</td>\n",
       "      <td>[35, 473, 908]</td>\n",
       "      <td>3</td>\n",
       "    </tr>\n",
       "    <tr>\n",
       "      <th>0</th>\n",
       "      <td>30</td>\n",
       "      <td>[49, 497, 905, 1381]</td>\n",
       "      <td>4</td>\n",
       "    </tr>\n",
       "    <tr>\n",
       "      <th>0</th>\n",
       "      <td>22</td>\n",
       "      <td>[93]</td>\n",
       "      <td>1</td>\n",
       "    </tr>\n",
       "    <tr>\n",
       "      <th>...</th>\n",
       "      <td>...</td>\n",
       "      <td>...</td>\n",
       "      <td>...</td>\n",
       "    </tr>\n",
       "    <tr>\n",
       "      <th>0</th>\n",
       "      <td>5338</td>\n",
       "      <td>[7527]</td>\n",
       "      <td>1</td>\n",
       "    </tr>\n",
       "    <tr>\n",
       "      <th>0</th>\n",
       "      <td>4597</td>\n",
       "      <td>[7547]</td>\n",
       "      <td>1</td>\n",
       "    </tr>\n",
       "    <tr>\n",
       "      <th>0</th>\n",
       "      <td>4687</td>\n",
       "      <td>[7566]</td>\n",
       "      <td>1</td>\n",
       "    </tr>\n",
       "    <tr>\n",
       "      <th>0</th>\n",
       "      <td>5040</td>\n",
       "      <td>[7587]</td>\n",
       "      <td>1</td>\n",
       "    </tr>\n",
       "    <tr>\n",
       "      <th>0</th>\n",
       "      <td>4755</td>\n",
       "      <td>[7678]</td>\n",
       "      <td>1</td>\n",
       "    </tr>\n",
       "  </tbody>\n",
       "</table>\n",
       "<p>414 rows × 3 columns</p>\n",
       "</div>"
      ],
      "text/plain": [
       "    tcell_label        calcium_labels  npositive_frames\n",
       "0            78                   [8]                 1\n",
       "0           123        [25, 450, 891]                 3\n",
       "0             7        [35, 473, 908]                 3\n",
       "0            30  [49, 497, 905, 1381]                 4\n",
       "0            22                  [93]                 1\n",
       "..          ...                   ...               ...\n",
       "0          5338                [7527]                 1\n",
       "0          4597                [7547]                 1\n",
       "0          4687                [7566]                 1\n",
       "0          5040                [7587]                 1\n",
       "0          4755                [7678]                 1\n",
       "\n",
       "[414 rows x 3 columns]"
      ]
     },
     "execution_count": 98,
     "metadata": {},
     "output_type": "execute_result"
    }
   ],
   "source": [
    "tcells_df"
   ]
  }
 ],
 "metadata": {
  "kernelspec": {
   "display_name": "tastra",
   "language": "python",
   "name": "python3"
  },
  "language_info": {
   "codemirror_mode": {
    "name": "ipython",
    "version": 3
   },
   "file_extension": ".py",
   "mimetype": "text/x-python",
   "name": "python",
   "nbconvert_exporter": "python",
   "pygments_lexer": "ipython3",
   "version": "3.10.16"
  }
 },
 "nbformat": 4,
 "nbformat_minor": 5
}
