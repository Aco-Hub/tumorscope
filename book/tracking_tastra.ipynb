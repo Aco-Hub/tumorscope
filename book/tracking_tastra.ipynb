{
 "cells": [
  {
   "cell_type": "markdown",
   "id": "fd5ba8fc",
   "metadata": {},
   "source": [
    "# Tracking with Trackastra\n",
    "\n",
    "We perform tracking with Trackastra; make sure torch is installed with the correct CUDA version, and that trackastra is installed.\n",
    "\n",
    "If you want to use the better ILP solver, you must install additional libraries; see the [installation instructions](https://github.com/weigertlab/trackastra?tab=readme-ov-file#installation) for more details.\n"
   ]
  },
  {
   "cell_type": "code",
   "execution_count": 1,
   "id": "aecbc9e3-99b2-4df0-a17a-a9166facaf0a",
   "metadata": {},
   "outputs": [
    {
     "name": "stderr",
     "output_type": "stream",
     "text": [
      "INFO:numexpr.utils:Note: detected 72 virtual cores but NumExpr set to maximum of 64, check \"NUMEXPR_MAX_THREADS\" environment variable.\n",
      "INFO:numexpr.utils:Note: NumExpr detected 72 cores but \"NUMEXPR_MAX_THREADS\" not set, so enforcing safe limit of 8.\n",
      "INFO:numexpr.utils:NumExpr defaulting to 8 threads.\n"
     ]
    }
   ],
   "source": [
    "import torch\n",
    "from trackastra.model import Trackastra\n",
    "from trackastra.tracking import graph_to_ctc, graph_to_napari_tracks\n",
    "from pathlib import Path\n",
    "from tifffile import imread\n",
    "import skimage as ski\n",
    "import numpy as np"
   ]
  },
  {
   "cell_type": "markdown",
   "id": "bf858bf8",
   "metadata": {},
   "source": [
    "## Loading the data"
   ]
  },
  {
   "cell_type": "code",
   "execution_count": 2,
   "id": "9952b743-3af7-47a7-80e5-8190fa0efb40",
   "metadata": {},
   "outputs": [
    {
     "name": "stdout",
     "output_type": "stream",
     "text": [
      "Loading image...\n",
      "Loaded image\n"
     ]
    }
   ],
   "source": [
    "device = \"cuda\" if torch.cuda.is_available() else \"cpu\"\n",
    "\n",
    "# load some test data images and masks\n",
    "root_path = Path(\"../../pvc/scratch/interaction_cells/datasets/\")\n",
    "print(\"Loading image...\")\n",
    "imgs = imread(root_path / \"series003_cCAR_tumor.tif\")\n",
    "print(\"Loaded image\")\n",
    "imgs = imgs[:, 0, ...]"
   ]
  },
  {
   "cell_type": "markdown",
   "id": "0769d8ec",
   "metadata": {},
   "source": [
    "Again, we downsample the images by two to speed up the process."
   ]
  },
  {
   "cell_type": "code",
   "execution_count": 3,
   "id": "10aad8ac-bf06-4c29-b67a-8fc4449b15e8",
   "metadata": {},
   "outputs": [],
   "source": [
    "imgs = ski.transform.resize(imgs, (imgs.shape[0], imgs.shape[1] // 2, imgs.shape[2] // 2), anti_aliasing=True)"
   ]
  },
  {
   "cell_type": "code",
   "execution_count": 4,
   "id": "c336323a-0f20-465a-a564-6c344609f099",
   "metadata": {},
   "outputs": [],
   "source": [
    "masks = imread(\"../../pvc/scratch/SHARE/cancer_cell_masks/series003_cCAR_tumor.tif\").astype(np.uint16)"
   ]
  },
  {
   "cell_type": "markdown",
   "id": "4ae15bef",
   "metadata": {},
   "source": [
    "Below we load the pre-trained trackastra model."
   ]
  },
  {
   "cell_type": "code",
   "execution_count": 5,
   "id": "d6ad0bea-1295-49f0-be4a-5c88c0eb5bab",
   "metadata": {},
   "outputs": [
    {
     "name": "stderr",
     "output_type": "stream",
     "text": [
      "INFO:trackastra.model.model:Loading model state from /home/achard/.trackastra/.models/general_2d/model.pt\n",
      "INFO:trackastra.model.model_api:Using device cuda\n"
     ]
    },
    {
     "name": "stdout",
     "output_type": "stream",
     "text": [
      "/home/achard/.trackastra/.models/general_2d already downloaded, skipping.\n"
     ]
    }
   ],
   "source": [
    "# Load a pretrained model\n",
    "model = Trackastra.from_pretrained(\"general_2d\", device=device)"
   ]
  },
  {
   "cell_type": "markdown",
   "id": "25840683",
   "metadata": {},
   "source": [
    "## Tracking\n",
    "\n",
    "Below we compute the tracks.\n",
    "\n",
    "```{important}\n",
    "The following paramaters are especially important for tracking:\n",
    "    - `mode`: The greedy solver simply takes the most probable option at each point, it is fast but simple. `greedy_nodiv`is the same, but without divisions, which is the case in this data. Finally the `ilp` solver is the best, but also the slowest. It requires additional libraries to be installed.\n",
    "    - `use_distance`: If set, tracks further apart than the distance are not connected. This must be tuned depending on the data.\n",
    "    - `max_distance`: The maximum distance between two points to be connected, see above.\n",
    "    - `allow_divisions`: If set, the algorithm allows divisions of tracks. Disable this if divisions are not part of the data."
   ]
  },
  {
   "cell_type": "code",
   "execution_count": 10,
   "id": "4f16039a-9b3b-4dee-81c4-0f2b885c7630",
   "metadata": {},
   "outputs": [
    {
     "name": "stderr",
     "output_type": "stream",
     "text": [
      "INFO:trackastra.model.model_api:Predicting weights for candidate graph\n",
      "INFO:trackastra.data.wrfeat:Extracting features from 162 detections\n",
      "INFO:trackastra.data.wrfeat:Using single process for feature extraction\n",
      "Extracting features: 100%|██████████| 162/162 [00:12<00:00, 12.50it/s]\n",
      "INFO:trackastra.model.model_api:Building windows\n",
      "Building windows: 100%|██████████| 159/159 [00:00<00:00, 14996.84it/s]\n",
      "INFO:trackastra.model.model_api:Predicting windows\n",
      "Computing associations: 100%|██████████| 159/159 [00:05<00:00, 29.77it/s]\n",
      "INFO:trackastra.model.model_api:Running greedy tracker\n",
      "INFO:trackastra.tracking.tracking:Build candidate graph with delta_t=1\n",
      "INFO:trackastra.tracking.tracking:Added 26729 vertices, 32401 edges                          \n",
      "INFO:trackastra.tracking.ilp:Using `gt` ILP config.\n",
      "INFO:motile.solver:Adding NodeSelection cost...\n",
      "INFO:motile.solver:Adding NodeSelected variables...\n",
      "INFO:motile.solver:Adding EdgeSelection cost...\n",
      "INFO:motile.solver:Adding EdgeSelected variables...\n",
      "INFO:motile.solver:Adding Appear cost...\n",
      "INFO:motile.solver:Adding NodeAppear variables...\n",
      "INFO:motile.solver:Adding Disappear cost...\n",
      "INFO:motile.solver:Adding NodeDisappear variables...\n",
      "INFO:motile.solver:Adding MaxParents constraint...\n",
      "INFO:motile.solver:Adding MaxChildren constraint...\n",
      "INFO:motile.solver:Computing costs...\n",
      "INFO:motile.solver:ILP solver returned with: OPTIMAL\n"
     ]
    },
    {
     "name": "stdout",
     "output_type": "stream",
     "text": [
      "\n",
      "Candidate graph\t\t26729 nodes\t32401 edges\n",
      "Solution graph\t\t26729 nodes\t25316 edges\n"
     ]
    }
   ],
   "source": [
    "# Track the cells\n",
    "track_graph = model.track(imgs, masks.astype(np.uint16), mode=\"ilp\", use_distance=True, max_distance=30, allow_divisions=False)  # or mode=\"ilp\", or \"greedy_nodiv\""
   ]
  },
  {
   "cell_type": "markdown",
   "id": "a21019ac",
   "metadata": {},
   "source": [
    "### Converting the tracks\n",
    "\n",
    "Below we save the tracks to disk, and we load them again for additional filtering"
   ]
  },
  {
   "cell_type": "code",
   "execution_count": 11,
   "id": "41076dc2-f872-403d-8d0d-68fbea3382bf",
   "metadata": {},
   "outputs": [
    {
     "name": "stderr",
     "output_type": "stream",
     "text": [
      "Converting graph to CTC results: 100%|██████████| 1413/1413 [00:00<00:00, 1726.61it/s]\n",
      "Saving masks: 100%|██████████| 162/162 [00:00<00:00, 181.85it/s]\n"
     ]
    }
   ],
   "source": [
    "# Write to cell tracking challenge format\n",
    "ctc_tracks, masks_tracked = graph_to_ctc(\n",
    "      track_graph,\n",
    "      masks,\n",
    "      outdir=\"../../pvc/scratch/SHARE/cancer_cell_masks/series003_cCAR_tumor_tracked\",\n",
    ")"
   ]
  },
  {
   "cell_type": "code",
   "execution_count": 57,
   "id": "16ae4ebc",
   "metadata": {},
   "outputs": [],
   "source": [
    "from napari_ctc_io.reader import read_ctc, _ctc_to_napari_tracks\n",
    "from pathlib import Path\n",
    "import pandas as pd\n",
    "import numpy as np\n",
    "import napari"
   ]
  },
  {
   "cell_type": "markdown",
   "id": "b045c1c8",
   "metadata": {},
   "source": [
    "## Track filtering"
   ]
  },
  {
   "cell_type": "code",
   "execution_count": 58,
   "id": "9bf2e196",
   "metadata": {},
   "outputs": [
    {
     "name": "stderr",
     "output_type": "stream",
     "text": [
      "INFO:napari_ctc_io.reader:Loaded tracks from C:\\Users\\Cyril\\Desktop\\Code\\tumorscope\\DATA\\tracked\\man_track.txt\n",
      "INFO:napari_ctc_io.reader:Running CTC format checks\n",
      "WARNING:napari_ctc_io.reader:1 non-connected masks at t=1.\n",
      "WARNING:napari_ctc_io.reader:1 non-connected masks at t=2.\n",
      "WARNING:napari_ctc_io.reader:3 non-connected masks at t=3.\n",
      "WARNING:napari_ctc_io.reader:1 non-connected masks at t=6.\n",
      "WARNING:napari_ctc_io.reader:1 non-connected masks at t=7.\n",
      "WARNING:napari_ctc_io.reader:1 non-connected masks at t=8.\n",
      "WARNING:napari_ctc_io.reader:2 non-connected masks at t=9.\n",
      "WARNING:napari_ctc_io.reader:2 non-connected masks at t=10.\n",
      "WARNING:napari_ctc_io.reader:3 non-connected masks at t=11.\n",
      "WARNING:napari_ctc_io.reader:2 non-connected masks at t=12.\n",
      "WARNING:napari_ctc_io.reader:1 non-connected masks at t=14.\n",
      "WARNING:napari_ctc_io.reader:2 non-connected masks at t=15.\n",
      "WARNING:napari_ctc_io.reader:2 non-connected masks at t=16.\n",
      "WARNING:napari_ctc_io.reader:3 non-connected masks at t=17.\n",
      "WARNING:napari_ctc_io.reader:1 non-connected masks at t=19.\n",
      "WARNING:napari_ctc_io.reader:1 non-connected masks at t=20.\n",
      "WARNING:napari_ctc_io.reader:2 non-connected masks at t=21.\n",
      "WARNING:napari_ctc_io.reader:3 non-connected masks at t=22.\n",
      "WARNING:napari_ctc_io.reader:1 non-connected masks at t=23.\n",
      "WARNING:napari_ctc_io.reader:1 non-connected masks at t=24.\n",
      "WARNING:napari_ctc_io.reader:1 non-connected masks at t=25.\n",
      "WARNING:napari_ctc_io.reader:1 non-connected masks at t=26.\n",
      "WARNING:napari_ctc_io.reader:1 non-connected masks at t=27.\n",
      "WARNING:napari_ctc_io.reader:1 non-connected masks at t=29.\n",
      "WARNING:napari_ctc_io.reader:2 non-connected masks at t=30.\n",
      "WARNING:napari_ctc_io.reader:1 non-connected masks at t=32.\n",
      "WARNING:napari_ctc_io.reader:1 non-connected masks at t=33.\n",
      "WARNING:napari_ctc_io.reader:1 non-connected masks at t=36.\n",
      "WARNING:napari_ctc_io.reader:1 non-connected masks at t=37.\n",
      "WARNING:napari_ctc_io.reader:1 non-connected masks at t=38.\n",
      "WARNING:napari_ctc_io.reader:2 non-connected masks at t=39.\n",
      "WARNING:napari_ctc_io.reader:1 non-connected masks at t=40.\n",
      "WARNING:napari_ctc_io.reader:2 non-connected masks at t=43.\n",
      "WARNING:napari_ctc_io.reader:1 non-connected masks at t=44.\n",
      "WARNING:napari_ctc_io.reader:2 non-connected masks at t=46.\n",
      "WARNING:napari_ctc_io.reader:1 non-connected masks at t=48.\n",
      "WARNING:napari_ctc_io.reader:2 non-connected masks at t=49.\n",
      "WARNING:napari_ctc_io.reader:1 non-connected masks at t=50.\n",
      "WARNING:napari_ctc_io.reader:1 non-connected masks at t=51.\n",
      "WARNING:napari_ctc_io.reader:2 non-connected masks at t=53.\n",
      "WARNING:napari_ctc_io.reader:2 non-connected masks at t=54.\n",
      "WARNING:napari_ctc_io.reader:1 non-connected masks at t=55.\n",
      "WARNING:napari_ctc_io.reader:1 non-connected masks at t=58.\n",
      "WARNING:napari_ctc_io.reader:2 non-connected masks at t=59.\n",
      "WARNING:napari_ctc_io.reader:2 non-connected masks at t=60.\n",
      "WARNING:napari_ctc_io.reader:3 non-connected masks at t=62.\n",
      "WARNING:napari_ctc_io.reader:2 non-connected masks at t=64.\n",
      "WARNING:napari_ctc_io.reader:2 non-connected masks at t=65.\n",
      "WARNING:napari_ctc_io.reader:1 non-connected masks at t=69.\n",
      "WARNING:napari_ctc_io.reader:1 non-connected masks at t=70.\n",
      "WARNING:napari_ctc_io.reader:1 non-connected masks at t=71.\n",
      "WARNING:napari_ctc_io.reader:1 non-connected masks at t=72.\n",
      "WARNING:napari_ctc_io.reader:1 non-connected masks at t=73.\n",
      "WARNING:napari_ctc_io.reader:3 non-connected masks at t=74.\n",
      "WARNING:napari_ctc_io.reader:2 non-connected masks at t=75.\n",
      "WARNING:napari_ctc_io.reader:3 non-connected masks at t=76.\n",
      "WARNING:napari_ctc_io.reader:2 non-connected masks at t=77.\n",
      "WARNING:napari_ctc_io.reader:1 non-connected masks at t=79.\n",
      "WARNING:napari_ctc_io.reader:1 non-connected masks at t=81.\n",
      "WARNING:napari_ctc_io.reader:3 non-connected masks at t=82.\n",
      "WARNING:napari_ctc_io.reader:2 non-connected masks at t=83.\n",
      "WARNING:napari_ctc_io.reader:2 non-connected masks at t=84.\n",
      "WARNING:napari_ctc_io.reader:2 non-connected masks at t=85.\n",
      "WARNING:napari_ctc_io.reader:1 non-connected masks at t=86.\n",
      "WARNING:napari_ctc_io.reader:1 non-connected masks at t=88.\n",
      "WARNING:napari_ctc_io.reader:2 non-connected masks at t=89.\n",
      "WARNING:napari_ctc_io.reader:1 non-connected masks at t=90.\n",
      "WARNING:napari_ctc_io.reader:2 non-connected masks at t=92.\n",
      "WARNING:napari_ctc_io.reader:3 non-connected masks at t=95.\n",
      "WARNING:napari_ctc_io.reader:1 non-connected masks at t=96.\n",
      "WARNING:napari_ctc_io.reader:2 non-connected masks at t=97.\n",
      "WARNING:napari_ctc_io.reader:1 non-connected masks at t=98.\n",
      "WARNING:napari_ctc_io.reader:3 non-connected masks at t=99.\n",
      "WARNING:napari_ctc_io.reader:3 non-connected masks at t=100.\n",
      "WARNING:napari_ctc_io.reader:3 non-connected masks at t=101.\n",
      "WARNING:napari_ctc_io.reader:1 non-connected masks at t=104.\n",
      "WARNING:napari_ctc_io.reader:3 non-connected masks at t=105.\n",
      "WARNING:napari_ctc_io.reader:2 non-connected masks at t=109.\n",
      "WARNING:napari_ctc_io.reader:2 non-connected masks at t=110.\n",
      "WARNING:napari_ctc_io.reader:1 non-connected masks at t=111.\n",
      "WARNING:napari_ctc_io.reader:2 non-connected masks at t=113.\n",
      "WARNING:napari_ctc_io.reader:1 non-connected masks at t=115.\n",
      "WARNING:napari_ctc_io.reader:2 non-connected masks at t=116.\n",
      "WARNING:napari_ctc_io.reader:2 non-connected masks at t=117.\n",
      "WARNING:napari_ctc_io.reader:3 non-connected masks at t=118.\n",
      "WARNING:napari_ctc_io.reader:3 non-connected masks at t=119.\n",
      "WARNING:napari_ctc_io.reader:4 non-connected masks at t=120.\n",
      "WARNING:napari_ctc_io.reader:4 non-connected masks at t=121.\n",
      "WARNING:napari_ctc_io.reader:2 non-connected masks at t=122.\n",
      "WARNING:napari_ctc_io.reader:2 non-connected masks at t=123.\n",
      "WARNING:napari_ctc_io.reader:3 non-connected masks at t=124.\n",
      "WARNING:napari_ctc_io.reader:3 non-connected masks at t=125.\n",
      "WARNING:napari_ctc_io.reader:2 non-connected masks at t=126.\n",
      "WARNING:napari_ctc_io.reader:3 non-connected masks at t=127.\n",
      "WARNING:napari_ctc_io.reader:3 non-connected masks at t=128.\n",
      "WARNING:napari_ctc_io.reader:2 non-connected masks at t=129.\n",
      "WARNING:napari_ctc_io.reader:1 non-connected masks at t=132.\n",
      "WARNING:napari_ctc_io.reader:2 non-connected masks at t=133.\n",
      "WARNING:napari_ctc_io.reader:4 non-connected masks at t=134.\n",
      "WARNING:napari_ctc_io.reader:2 non-connected masks at t=136.\n",
      "WARNING:napari_ctc_io.reader:2 non-connected masks at t=137.\n",
      "WARNING:napari_ctc_io.reader:1 non-connected masks at t=141.\n",
      "WARNING:napari_ctc_io.reader:1 non-connected masks at t=142.\n",
      "WARNING:napari_ctc_io.reader:2 non-connected masks at t=145.\n",
      "WARNING:napari_ctc_io.reader:1 non-connected masks at t=146.\n",
      "WARNING:napari_ctc_io.reader:3 non-connected masks at t=147.\n",
      "WARNING:napari_ctc_io.reader:2 non-connected masks at t=149.\n",
      "WARNING:napari_ctc_io.reader:5 non-connected masks at t=150.\n",
      "WARNING:napari_ctc_io.reader:4 non-connected masks at t=151.\n",
      "WARNING:napari_ctc_io.reader:5 non-connected masks at t=152.\n",
      "WARNING:napari_ctc_io.reader:3 non-connected masks at t=153.\n",
      "WARNING:napari_ctc_io.reader:2 non-connected masks at t=154.\n",
      "WARNING:napari_ctc_io.reader:1 non-connected masks at t=155.\n",
      "WARNING:napari_ctc_io.reader:1 non-connected masks at t=157.\n",
      "WARNING:napari_ctc_io.reader:1 non-connected masks at t=158.\n",
      "WARNING:napari_ctc_io.reader:1 non-connected masks at t=159.\n",
      "WARNING:napari_ctc_io.reader:3 non-connected masks at t=161.\n",
      "INFO:napari_ctc_io.reader:Checks completed\n"
     ]
    }
   ],
   "source": [
    "masks, tracks, tracks_graph = read_ctc(\n",
    "    Path(r\"C:\\Users\\Cyril\\Desktop\\Code\\tumorscope\\DATA\\tracked\")\n",
    ")"
   ]
  },
  {
   "cell_type": "code",
   "execution_count": 59,
   "id": "185c7bf1",
   "metadata": {},
   "outputs": [],
   "source": [
    "tracks_df = pd.DataFrame(tracks, columns=[\"label\", \"frame\", \"x\", \"y\"])\n",
    "tracks_df.label = tracks_df.label.astype(np.uint16)\n",
    "tracks_df.frame = tracks_df.frame.astype(np.uint16)"
   ]
  },
  {
   "cell_type": "markdown",
   "id": "953845a5",
   "metadata": {},
   "source": [
    "### Filter tracks by time\n",
    "\n",
    "Below we discard tracks that are shorter than 5 frames, which helps with false positives. The number of frames can be adjusted depending on the specific data."
   ]
  },
  {
   "cell_type": "code",
   "execution_count": 60,
   "id": "cc41fefb",
   "metadata": {},
   "outputs": [],
   "source": [
    "def filter_masks_by_time(masks, tracks_df, min_length=5):\n",
    "    \"\"\"\n",
    "    Filter masks by their length.\n",
    "    \"\"\"\n",
    "    masks_ids = tracks_df.groupby(\"label\").size()\n",
    "    valid_masks = masks_ids[masks_ids >= min_length].index.values\n",
    "    # In the masks array (T, H, W), remove labels with values that are not in valid_masks\n",
    "    masks_filtered = np.zeros_like(masks, dtype=np.uint16)\n",
    "    for t in range(masks.shape[0]):\n",
    "        masks_filtered[t] = np.where(np.isin(masks[t], valid_masks), masks[t], 0)\n",
    "    tracks_df_filtered = tracks_df[tracks_df[\"label\"].isin(valid_masks)]\n",
    "    return masks_filtered, tracks_df_filtered"
   ]
  },
  {
   "cell_type": "code",
   "execution_count": 61,
   "id": "5f36ef88",
   "metadata": {},
   "outputs": [],
   "source": [
    "masks_filtered, filtered_tracks_df = filter_masks_by_time(masks, tracks_df, min_length=20)"
   ]
  },
  {
   "cell_type": "code",
   "execution_count": 62,
   "id": "4f46f63d",
   "metadata": {},
   "outputs": [
    {
     "data": {
      "application/vnd.microsoft.datawrangler.viewer.v0+json": {
       "columns": [
        {
         "name": "index",
         "rawType": "int64",
         "type": "integer"
        },
        {
         "name": "label",
         "rawType": "uint16",
         "type": "integer"
        },
        {
         "name": "frame",
         "rawType": "uint16",
         "type": "integer"
        },
        {
         "name": "x",
         "rawType": "float64",
         "type": "float"
        },
        {
         "name": "y",
         "rawType": "float64",
         "type": "float"
        }
       ],
       "conversionMethod": "pd.DataFrame",
       "ref": "2e0ec2cc-c458-4677-87bc-790c67f820af",
       "rows": [
        [
         "0",
         "1",
         "0",
         "26.63496143958869",
         "13.174807197943444"
        ],
        [
         "3",
         "4",
         "0",
         "14.884072580645162",
         "104.65625"
        ],
        [
         "4",
         "5",
         "0",
         "16.18652144315861",
         "212.16609938733833"
        ],
        [
         "5",
         "6",
         "0",
         "7.246179966044143",
         "284.018675721562"
        ],
        [
         "6",
         "7",
         "0",
         "16.39060568603214",
         "348.3007828594973"
        ],
        [
         "8",
         "9",
         "0",
         "14.070435588507877",
         "458.32808155699723"
        ],
        [
         "10",
         "11",
         "0",
         "48.80901383311022",
         "228.0325747434181"
        ],
        [
         "11",
         "12",
         "0",
         "66.0183630640084",
         "83.53934942287513"
        ],
        [
         "13",
         "14",
         "0",
         "59.52467532467532",
         "308.3885714285714"
        ],
        [
         "14",
         "15",
         "0",
         "59.148261758691206",
         "483.5644171779141"
        ],
        [
         "15",
         "16",
         "0",
         "62.71021377672209",
         "517.0506730007918"
        ],
        [
         "16",
         "17",
         "0",
         "75.3339222614841",
         "551.3274440518256"
        ],
        [
         "18",
         "19",
         "0",
         "81.34857521537442",
         "647.4373757455269"
        ],
        [
         "20",
         "21",
         "0",
         "84.86360612109115",
         "412.31270791749836"
        ],
        [
         "21",
         "22",
         "0",
         "85.89890981169475",
         "176.3548067393459"
        ],
        [
         "22",
         "23",
         "0",
         "92.50236518448439",
         "115.46546830652791"
        ],
        [
         "23",
         "24",
         "0",
         "95.31941031941032",
         "332.1171171171171"
        ],
        [
         "24",
         "25",
         "0",
         "109.06477166821995",
         "40.62208760484623"
        ],
        [
         "25",
         "26",
         "0",
         "102.08492201039861",
         "471.8786828422877"
        ],
        [
         "26",
         "27",
         "0",
         "107.52390852390852",
         "700.3222453222453"
        ],
        [
         "28",
         "29",
         "0",
         "109.1825764596849",
         "534.129749768304"
        ],
        [
         "29",
         "30",
         "0",
         "116.48757170172084",
         "385.353091140854"
        ],
        [
         "30",
         "31",
         "0",
         "123.30868167202573",
         "135.19185423365488"
        ],
        [
         "33",
         "34",
         "0",
         "131.98008849557522",
         "276.2975663716814"
        ],
        [
         "34",
         "35",
         "0",
         "140.4",
         "428.957507082153"
        ],
        [
         "36",
         "37",
         "0",
         "147.65536723163842",
         "81.59180790960453"
        ],
        [
         "38",
         "39",
         "0",
         "152.86094182825485",
         "523.6315789473684"
        ],
        [
         "39",
         "40",
         "0",
         "153.1520644511581",
         "284.5387713997986"
        ],
        [
         "40",
         "41",
         "0",
         "164.24591381872213",
         "685.6002971768202"
        ],
        [
         "42",
         "43",
         "0",
         "163.13866039952995",
         "119.0951821386604"
        ],
        [
         "43",
         "44",
         "0",
         "171.74261326329614",
         "25.776099803020355"
        ],
        [
         "44",
         "45",
         "0",
         "184.85887384176763",
         "592.1546685673557"
        ],
        [
         "45",
         "46",
         "0",
         "182.46254458977407",
         "449.0594530321046"
        ],
        [
         "46",
         "47",
         "0",
         "198.1916608269096",
         "72.96811492641906"
        ],
        [
         "47",
         "48",
         "0",
         "198.98553829673273",
         "127.11515800749866"
        ],
        [
         "48",
         "49",
         "0",
         "187.50888192267502",
         "649.8746081504702"
        ],
        [
         "49",
         "50",
         "0",
         "213.3449433487201",
         "159.62526227444397"
        ],
        [
         "50",
         "51",
         "0",
         "200.14658210007048",
         "207.45947850599012"
        ],
        [
         "51",
         "52",
         "0",
         "195.1971706454465",
         "519.4407603890362"
        ],
        [
         "52",
         "53",
         "0",
         "203.71117779444862",
         "417.08252063015755"
        ],
        [
         "53",
         "54",
         "0",
         "232.21369235176167",
         "606.1214551704383"
        ],
        [
         "54",
         "55",
         "0",
         "216.14298245614034",
         "674.7662280701754"
        ],
        [
         "57",
         "58",
         "0",
         "241.13112320633348",
         "517.70113805047"
        ],
        [
         "58",
         "59",
         "0",
         "236.6579139314369",
         "217.80889861415025"
        ],
        [
         "60",
         "61",
         "0",
         "257.21743486973946",
         "168.9255177020708"
        ],
        [
         "61",
         "62",
         "0",
         "249.91905231984205",
         "415.57305034550836"
        ],
        [
         "62",
         "63",
         "0",
         "251.2119064493267",
         "333.14103472714385"
        ],
        [
         "63",
         "64",
         "0",
         "267.57028112449797",
         "626.8697647733792"
        ],
        [
         "64",
         "65",
         "0",
         "268.52224147891394",
         "225.99306759098786"
        ],
        [
         "65",
         "66",
         "0",
         "291.88919413919416",
         "454.2802197802198"
        ]
       ],
       "shape": {
        "columns": 4,
        "rows": 23183
       }
      },
      "text/html": [
       "<div>\n",
       "<style scoped>\n",
       "    .dataframe tbody tr th:only-of-type {\n",
       "        vertical-align: middle;\n",
       "    }\n",
       "\n",
       "    .dataframe tbody tr th {\n",
       "        vertical-align: top;\n",
       "    }\n",
       "\n",
       "    .dataframe thead th {\n",
       "        text-align: right;\n",
       "    }\n",
       "</style>\n",
       "<table border=\"1\" class=\"dataframe\">\n",
       "  <thead>\n",
       "    <tr style=\"text-align: right;\">\n",
       "      <th></th>\n",
       "      <th>label</th>\n",
       "      <th>frame</th>\n",
       "      <th>x</th>\n",
       "      <th>y</th>\n",
       "    </tr>\n",
       "  </thead>\n",
       "  <tbody>\n",
       "    <tr>\n",
       "      <th>0</th>\n",
       "      <td>1</td>\n",
       "      <td>0</td>\n",
       "      <td>26.634961</td>\n",
       "      <td>13.174807</td>\n",
       "    </tr>\n",
       "    <tr>\n",
       "      <th>3</th>\n",
       "      <td>4</td>\n",
       "      <td>0</td>\n",
       "      <td>14.884073</td>\n",
       "      <td>104.656250</td>\n",
       "    </tr>\n",
       "    <tr>\n",
       "      <th>4</th>\n",
       "      <td>5</td>\n",
       "      <td>0</td>\n",
       "      <td>16.186521</td>\n",
       "      <td>212.166099</td>\n",
       "    </tr>\n",
       "    <tr>\n",
       "      <th>5</th>\n",
       "      <td>6</td>\n",
       "      <td>0</td>\n",
       "      <td>7.246180</td>\n",
       "      <td>284.018676</td>\n",
       "    </tr>\n",
       "    <tr>\n",
       "      <th>6</th>\n",
       "      <td>7</td>\n",
       "      <td>0</td>\n",
       "      <td>16.390606</td>\n",
       "      <td>348.300783</td>\n",
       "    </tr>\n",
       "    <tr>\n",
       "      <th>...</th>\n",
       "      <td>...</td>\n",
       "      <td>...</td>\n",
       "      <td>...</td>\n",
       "      <td>...</td>\n",
       "    </tr>\n",
       "    <tr>\n",
       "      <th>26661</th>\n",
       "      <td>1049</td>\n",
       "      <td>161</td>\n",
       "      <td>358.852544</td>\n",
       "      <td>202.169263</td>\n",
       "    </tr>\n",
       "    <tr>\n",
       "      <th>26662</th>\n",
       "      <td>1050</td>\n",
       "      <td>161</td>\n",
       "      <td>493.740546</td>\n",
       "      <td>463.212185</td>\n",
       "    </tr>\n",
       "    <tr>\n",
       "      <th>26663</th>\n",
       "      <td>1055</td>\n",
       "      <td>161</td>\n",
       "      <td>36.035928</td>\n",
       "      <td>129.623752</td>\n",
       "    </tr>\n",
       "    <tr>\n",
       "      <th>26664</th>\n",
       "      <td>1062</td>\n",
       "      <td>161</td>\n",
       "      <td>633.679825</td>\n",
       "      <td>101.527778</td>\n",
       "    </tr>\n",
       "    <tr>\n",
       "      <th>26665</th>\n",
       "      <td>1065</td>\n",
       "      <td>161</td>\n",
       "      <td>229.864633</td>\n",
       "      <td>670.640133</td>\n",
       "    </tr>\n",
       "  </tbody>\n",
       "</table>\n",
       "<p>23183 rows × 4 columns</p>\n",
       "</div>"
      ],
      "text/plain": [
       "       label  frame           x           y\n",
       "0          1      0   26.634961   13.174807\n",
       "3          4      0   14.884073  104.656250\n",
       "4          5      0   16.186521  212.166099\n",
       "5          6      0    7.246180  284.018676\n",
       "6          7      0   16.390606  348.300783\n",
       "...      ...    ...         ...         ...\n",
       "26661   1049    161  358.852544  202.169263\n",
       "26662   1050    161  493.740546  463.212185\n",
       "26663   1055    161   36.035928  129.623752\n",
       "26664   1062    161  633.679825  101.527778\n",
       "26665   1065    161  229.864633  670.640133\n",
       "\n",
       "[23183 rows x 4 columns]"
      ]
     },
     "execution_count": 62,
     "metadata": {},
     "output_type": "execute_result"
    }
   ],
   "source": [
    "filtered_tracks_df"
   ]
  },
  {
   "cell_type": "markdown",
   "id": "d0854086",
   "metadata": {},
   "source": [
    "## Save the filtered tracks"
   ]
  },
  {
   "cell_type": "code",
   "execution_count": null,
   "id": "ac2cb037",
   "metadata": {},
   "outputs": [],
   "source": [
    "from tqdm import tqdm\n",
    "import tifffile\n",
    "\n",
    "outdir = Path(\"./tracked\")\n",
    "\n",
    "filtered_tracks_df.to_csv(outdir / \"man_track.txt\", index=False, header=False, sep=\" \")\n",
    "for i, m in tqdm(enumerate(masks), total=len(masks), desc=\"Saving masks\"):\n",
    "    tifffile.imwrite(\n",
    "        outdir / f\"man_track{i:04d}.tif\",\n",
    "        m,\n",
    "        compression=\"zstd\",\n",
    "    )"
   ]
  },
  {
   "cell_type": "code",
   "execution_count": null,
   "id": "6a6fe254",
   "metadata": {},
   "outputs": [],
   "source": [
    "# v = napari.Viewer()"
   ]
  },
  {
   "cell_type": "code",
   "execution_count": null,
   "id": "82dc2d2f",
   "metadata": {},
   "outputs": [
    {
     "data": {
      "text/plain": [
       "<Tracks layer 'tracks' at 0x2d21a3affd0>"
      ]
     },
     "execution_count": 64,
     "metadata": {},
     "output_type": "execute_result"
    }
   ],
   "source": [
    "# v.add_labels(masks, name=\"masks\")"
   ]
  },
  {
   "cell_type": "code",
   "execution_count": null,
   "id": "59ced92d",
   "metadata": {},
   "outputs": [
    {
     "data": {
      "text/plain": [
       "<Tracks layer 'tracks [1]' at 0x2d2bcba8f70>"
      ]
     },
     "execution_count": 66,
     "metadata": {},
     "output_type": "execute_result"
    }
   ],
   "source": [
    "# v.add_tracks(tracks, name=\"tracks\")"
   ]
  },
  {
   "cell_type": "code",
   "execution_count": null,
   "id": "3d6aab0e",
   "metadata": {},
   "outputs": [
    {
     "data": {
      "text/plain": [
       "<Tracks layer 'filtered_tracks' at 0x2d2c14816c0>"
      ]
     },
     "execution_count": 65,
     "metadata": {},
     "output_type": "execute_result"
    }
   ],
   "source": [
    "# v.add_labels(masks_filtered, name=\"masks_filtered\")\n",
    "\n",
    "# filtered_tracks = filtered_tracks_df.to_numpy().astype(np.float32)\n",
    "# v.add_tracks(filtered_tracks, name=\"filtered_tracks\")\n"
   ]
  },
  {
   "cell_type": "code",
   "execution_count": null,
   "id": "6e43febd",
   "metadata": {},
   "outputs": [],
   "source": []
  }
 ],
 "metadata": {
  "kernelspec": {
   "display_name": "tastra",
   "language": "python",
   "name": "python3"
  },
  "language_info": {
   "codemirror_mode": {
    "name": "ipython",
    "version": 3
   },
   "file_extension": ".py",
   "mimetype": "text/x-python",
   "name": "python",
   "nbconvert_exporter": "python",
   "pygments_lexer": "ipython3",
   "version": "3.10.16"
  }
 },
 "nbformat": 4,
 "nbformat_minor": 5
}
