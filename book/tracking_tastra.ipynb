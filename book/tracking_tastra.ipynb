{
 "cells": [
  {
   "cell_type": "markdown",
   "id": "fd5ba8fc",
   "metadata": {},
   "source": [
    "# Tracking with Trackastra"
   ]
  },
  {
   "cell_type": "code",
   "execution_count": 1,
   "id": "aecbc9e3-99b2-4df0-a17a-a9166facaf0a",
   "metadata": {},
   "outputs": [
    {
     "name": "stderr",
     "output_type": "stream",
     "text": [
      "INFO:numexpr.utils:Note: detected 72 virtual cores but NumExpr set to maximum of 64, check \"NUMEXPR_MAX_THREADS\" environment variable.\n",
      "INFO:numexpr.utils:Note: NumExpr detected 72 cores but \"NUMEXPR_MAX_THREADS\" not set, so enforcing safe limit of 8.\n",
      "INFO:numexpr.utils:NumExpr defaulting to 8 threads.\n"
     ]
    }
   ],
   "source": [
    "import torch\n",
    "from trackastra.model import Trackastra\n",
    "from trackastra.tracking import graph_to_ctc, graph_to_napari_tracks\n",
    "from pathlib import Path\n",
    "from tifffile import imread\n",
    "import skimage as ski\n",
    "import numpy as np"
   ]
  },
  {
   "cell_type": "code",
   "execution_count": 2,
   "id": "9952b743-3af7-47a7-80e5-8190fa0efb40",
   "metadata": {},
   "outputs": [
    {
     "name": "stdout",
     "output_type": "stream",
     "text": [
      "Loading image...\n",
      "Loaded image\n"
     ]
    }
   ],
   "source": [
    "device = \"cuda\" if torch.cuda.is_available() else \"cpu\"\n",
    "\n",
    "# load some test data images and masks\n",
    "root_path = Path(\"../../pvc/scratch/interaction_cells/datasets/\")\n",
    "print(\"Loading image...\")\n",
    "imgs = imread(root_path / \"series003_cCAR_tumor.tif\")\n",
    "print(\"Loaded image\")\n",
    "imgs = imgs[:, 0, ...]"
   ]
  },
  {
   "cell_type": "code",
   "execution_count": 3,
   "id": "10aad8ac-bf06-4c29-b67a-8fc4449b15e8",
   "metadata": {},
   "outputs": [],
   "source": [
    "imgs = ski.transform.resize(imgs, (imgs.shape[0], imgs.shape[1] // 2, imgs.shape[2] // 2), anti_aliasing=True)"
   ]
  },
  {
   "cell_type": "code",
   "execution_count": 4,
   "id": "c336323a-0f20-465a-a564-6c344609f099",
   "metadata": {},
   "outputs": [],
   "source": [
    "masks = imread(\"../../pvc/scratch/SHARE/cancer_cell_masks/series003_cCAR_tumor.tif\").astype(np.uint16)"
   ]
  },
  {
   "cell_type": "code",
   "execution_count": 5,
   "id": "d6ad0bea-1295-49f0-be4a-5c88c0eb5bab",
   "metadata": {},
   "outputs": [
    {
     "name": "stderr",
     "output_type": "stream",
     "text": [
      "INFO:trackastra.model.model:Loading model state from /home/achard/.trackastra/.models/general_2d/model.pt\n",
      "INFO:trackastra.model.model_api:Using device cuda\n"
     ]
    },
    {
     "name": "stdout",
     "output_type": "stream",
     "text": [
      "/home/achard/.trackastra/.models/general_2d already downloaded, skipping.\n"
     ]
    }
   ],
   "source": [
    "# Load a pretrained model\n",
    "model = Trackastra.from_pretrained(\"general_2d\", device=device)"
   ]
  },
  {
   "cell_type": "code",
   "execution_count": 10,
   "id": "4f16039a-9b3b-4dee-81c4-0f2b885c7630",
   "metadata": {},
   "outputs": [
    {
     "name": "stderr",
     "output_type": "stream",
     "text": [
      "INFO:trackastra.model.model_api:Predicting weights for candidate graph\n",
      "INFO:trackastra.data.wrfeat:Extracting features from 162 detections\n",
      "INFO:trackastra.data.wrfeat:Using single process for feature extraction\n",
      "Extracting features: 100%|██████████| 162/162 [00:12<00:00, 12.50it/s]\n",
      "INFO:trackastra.model.model_api:Building windows\n",
      "Building windows: 100%|██████████| 159/159 [00:00<00:00, 14996.84it/s]\n",
      "INFO:trackastra.model.model_api:Predicting windows\n",
      "Computing associations: 100%|██████████| 159/159 [00:05<00:00, 29.77it/s]\n",
      "INFO:trackastra.model.model_api:Running greedy tracker\n",
      "INFO:trackastra.tracking.tracking:Build candidate graph with delta_t=1\n",
      "INFO:trackastra.tracking.tracking:Added 26729 vertices, 32401 edges                          \n",
      "INFO:trackastra.tracking.ilp:Using `gt` ILP config.\n",
      "INFO:motile.solver:Adding NodeSelection cost...\n",
      "INFO:motile.solver:Adding NodeSelected variables...\n",
      "INFO:motile.solver:Adding EdgeSelection cost...\n",
      "INFO:motile.solver:Adding EdgeSelected variables...\n",
      "INFO:motile.solver:Adding Appear cost...\n",
      "INFO:motile.solver:Adding NodeAppear variables...\n",
      "INFO:motile.solver:Adding Disappear cost...\n",
      "INFO:motile.solver:Adding NodeDisappear variables...\n",
      "INFO:motile.solver:Adding MaxParents constraint...\n",
      "INFO:motile.solver:Adding MaxChildren constraint...\n",
      "INFO:motile.solver:Computing costs...\n",
      "INFO:motile.solver:ILP solver returned with: OPTIMAL\n"
     ]
    },
    {
     "name": "stdout",
     "output_type": "stream",
     "text": [
      "\n",
      "Candidate graph\t\t26729 nodes\t32401 edges\n",
      "Solution graph\t\t26729 nodes\t25316 edges\n"
     ]
    }
   ],
   "source": [
    "# Track the cells\n",
    "track_graph = model.track(imgs, masks.astype(np.uint16), mode=\"ilp\", use_distance=True, max_distance=30, allow_divisions=False)  # or mode=\"ilp\", or \"greedy_nodiv\""
   ]
  },
  {
   "cell_type": "code",
   "execution_count": 11,
   "id": "41076dc2-f872-403d-8d0d-68fbea3382bf",
   "metadata": {},
   "outputs": [
    {
     "name": "stderr",
     "output_type": "stream",
     "text": [
      "Converting graph to CTC results: 100%|██████████| 1413/1413 [00:00<00:00, 1726.61it/s]\n",
      "Saving masks: 100%|██████████| 162/162 [00:00<00:00, 181.85it/s]\n"
     ]
    }
   ],
   "source": [
    "# Write to cell tracking challenge format\n",
    "ctc_tracks, masks_tracked = graph_to_ctc(\n",
    "      track_graph,\n",
    "      masks,\n",
    "      outdir=\"../../pvc/scratch/SHARE/cancer_cell_masks/series003_cCAR_tumor_tracked\",\n",
    ")"
   ]
  }
 ],
 "metadata": {
  "kernelspec": {
   "display_name": "Python 3 (ipykernel)",
   "language": "python",
   "name": "python3"
  },
  "language_info": {
   "codemirror_mode": {
    "name": "ipython",
    "version": 3
   },
   "file_extension": ".py",
   "mimetype": "text/x-python",
   "name": "python",
   "nbconvert_exporter": "python",
   "pygments_lexer": "ipython3",
   "version": "3.11.6"
  }
 },
 "nbformat": 4,
 "nbformat_minor": 5
}
